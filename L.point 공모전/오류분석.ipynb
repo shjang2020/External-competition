{
 "cells": [
  {
   "cell_type": "code",
   "execution_count": 1,
   "metadata": {},
   "outputs": [
    {
     "name": "stderr",
     "output_type": "stream",
     "text": [
      "C:\\Users\\JangSeongHyun\\anaconda3\\lib\\site-packages\\numpy\\_distributor_init.py:30: UserWarning: loaded more than 1 DLL from .libs:\n",
      "C:\\Users\\JangSeongHyun\\anaconda3\\lib\\site-packages\\numpy\\.libs\\libopenblas.EL2C6PLE4ZYW3ECEVIV3OXXGRN2NRFM2.gfortran-win_amd64.dll\n",
      "C:\\Users\\JangSeongHyun\\anaconda3\\lib\\site-packages\\numpy\\.libs\\libopenblas.PYQHXLVVQ7VESDPUVUADXEVJOBGHJPAY.gfortran-win_amd64.dll\n",
      "  warnings.warn(\"loaded more than 1 DLL from .libs:\"\n"
     ]
    }
   ],
   "source": [
    "import pandas as pd\n",
    "import numpy as np\n",
    "import matplotlib.pyplot as plt\n",
    "import seaborn as sns\n",
    "from tqdm import tqdm\n",
    "import matplotlib.font_manager as fm\n",
    "plt.rc('font', family=fm.FontProperties(fname=\"c:/Windows/Fonts/malgun.ttf\").get_name())\n",
    "import warnings\n",
    "warnings.filterwarnings(action='ignore')"
   ]
  },
  {
   "cell_type": "code",
   "execution_count": 2,
   "metadata": {},
   "outputs": [],
   "source": [
    "customer = pd.read_csv('./data/LPOINT_BIG_COMP_01_DEMO.csv')            # 고객정보\n",
    "product_use = pd.read_csv('./data/LPOINT_BIG_COMP_02_PDDE.csv')         # 유통사 상품 구매내역\n",
    "serv_use = pd.read_csv('./data/LPOINT_BIG_COMP_03_COP_U.csv')           # 제휴사 서비스 이용내역\n",
    "product = pd.read_csv('./data/LPOINT_BIG_COMP_04_PD_CLAC.csv')          # 유통사 상품 카테고리 마스터\n",
    "brand = pd.read_csv('./data/LPOINT_BIG_COMP_05_BR.csv')                 # 유통사/제휴사 점포 마스터\n",
    "lpay = pd.read_csv('./data/LPOINT_BIG_COMP_06_LPAY.csv')                # 엘페이 결제 내역"
   ]
  },
  {
   "cell_type": "code",
   "execution_count": 3,
   "metadata": {},
   "outputs": [],
   "source": [
    "customer.columns = ['고객번호', '성별', '연령대', '거주지대분류코드']\n",
    "product_use.columns = ['고객번호', '영수증번호', '채널구분', '제휴사', '점포코드', '상품코드', '구매일자', '구매시간', '구매금액', '구매수량']\n",
    "serv_use.columns = ['고객번호', '영수증번호', '제휴사', '점포코드', '채널구분', '이용일자', '방문일자', '이용시간', '이용금액']\n",
    "product.columns = ['상품코드', '소분류명', '중분류명', '대분류명']\n",
    "brand.columns = ['점포코드', '제휴사', '점포대분류코드', '점포중분류코드']\n",
    "lpay.columns = ['고객번호', '영수증번호', '제휴사', '채널구분', '이용일자', '이용시간', '이용금액']"
   ]
  },
  {
   "cell_type": "code",
   "execution_count": 8,
   "metadata": {},
   "outputs": [
    {
     "data": {
      "text/html": [
       "<div>\n",
       "<style scoped>\n",
       "    .dataframe tbody tr th:only-of-type {\n",
       "        vertical-align: middle;\n",
       "    }\n",
       "\n",
       "    .dataframe tbody tr th {\n",
       "        vertical-align: top;\n",
       "    }\n",
       "\n",
       "    .dataframe thead th {\n",
       "        text-align: right;\n",
       "    }\n",
       "</style>\n",
       "<table border=\"1\" class=\"dataframe\">\n",
       "  <thead>\n",
       "    <tr style=\"text-align: right;\">\n",
       "      <th></th>\n",
       "      <th>고객번호</th>\n",
       "      <th>성별</th>\n",
       "      <th>연령대</th>\n",
       "      <th>거주지대분류코드</th>\n",
       "    </tr>\n",
       "  </thead>\n",
       "  <tbody>\n",
       "    <tr>\n",
       "      <th>0</th>\n",
       "      <td>M000034966</td>\n",
       "      <td>여성</td>\n",
       "      <td>40대</td>\n",
       "      <td>Z07</td>\n",
       "    </tr>\n",
       "    <tr>\n",
       "      <th>1</th>\n",
       "      <td>M000059535</td>\n",
       "      <td>여성</td>\n",
       "      <td>30대</td>\n",
       "      <td>Z12</td>\n",
       "    </tr>\n",
       "    <tr>\n",
       "      <th>2</th>\n",
       "      <td>M000136117</td>\n",
       "      <td>여성</td>\n",
       "      <td>30대</td>\n",
       "      <td>Z11</td>\n",
       "    </tr>\n",
       "    <tr>\n",
       "      <th>3</th>\n",
       "      <td>M000201112</td>\n",
       "      <td>여성</td>\n",
       "      <td>50대</td>\n",
       "      <td>Z17</td>\n",
       "    </tr>\n",
       "    <tr>\n",
       "      <th>4</th>\n",
       "      <td>M000225114</td>\n",
       "      <td>여성</td>\n",
       "      <td>40대</td>\n",
       "      <td>Z17</td>\n",
       "    </tr>\n",
       "  </tbody>\n",
       "</table>\n",
       "</div>"
      ],
      "text/plain": [
       "         고객번호  성별  연령대 거주지대분류코드\n",
       "0  M000034966  여성  40대      Z07\n",
       "1  M000059535  여성  30대      Z12\n",
       "2  M000136117  여성  30대      Z11\n",
       "3  M000201112  여성  50대      Z17\n",
       "4  M000225114  여성  40대      Z17"
      ]
     },
     "execution_count": 8,
     "metadata": {},
     "output_type": "execute_result"
    }
   ],
   "source": [
    "customer.head()"
   ]
  },
  {
   "cell_type": "code",
   "execution_count": 5,
   "metadata": {},
   "outputs": [
    {
     "data": {
      "image/png": "[encoded data removed]",
      "text/plain": [
       "<Figure size 288x144 with 1 Axes>"
      ]
     },
     "metadata": {
      "needs_background": "light"
     },
     "output_type": "display_data"
    }
   ],
   "source": [
    "plt.figure(figsize=(4, 2)) \n",
    "sns.heatmap(customer.isnull(), cbar=False)\n",
    "plt.show()"
   ]
  },
  {
   "cell_type": "code",
   "execution_count": 6,
   "metadata": {},
   "outputs": [
    {
     "data": {
      "text/html": [
       "<div>\n",
       "<style scoped>\n",
       "    .dataframe tbody tr th:only-of-type {\n",
       "        vertical-align: middle;\n",
       "    }\n",
       "\n",
       "    .dataframe tbody tr th {\n",
       "        vertical-align: top;\n",
       "    }\n",
       "\n",
       "    .dataframe thead th {\n",
       "        text-align: right;\n",
       "    }\n",
       "</style>\n",
       "<table border=\"1\" class=\"dataframe\">\n",
       "  <thead>\n",
       "    <tr style=\"text-align: right;\">\n",
       "      <th></th>\n",
       "      <th>고객번호</th>\n",
       "      <th>영수증번호</th>\n",
       "      <th>채널구분</th>\n",
       "      <th>제휴사</th>\n",
       "      <th>점포코드</th>\n",
       "      <th>상품코드</th>\n",
       "      <th>구매일자</th>\n",
       "      <th>구매시간</th>\n",
       "      <th>구매금액</th>\n",
       "      <th>구매수량</th>\n",
       "    </tr>\n",
       "  </thead>\n",
       "  <tbody>\n",
       "    <tr>\n",
       "      <th>0</th>\n",
       "      <td>M430112881</td>\n",
       "      <td>A01000001113</td>\n",
       "      <td>1</td>\n",
       "      <td>A01</td>\n",
       "      <td>A010039</td>\n",
       "      <td>PD0290</td>\n",
       "      <td>20210101</td>\n",
       "      <td>10</td>\n",
       "      <td>15000.0</td>\n",
       "      <td>1</td>\n",
       "    </tr>\n",
       "    <tr>\n",
       "      <th>1</th>\n",
       "      <td>M646853852</td>\n",
       "      <td>A01000002265</td>\n",
       "      <td>1</td>\n",
       "      <td>A01</td>\n",
       "      <td>A010025</td>\n",
       "      <td>PD1369</td>\n",
       "      <td>20210101</td>\n",
       "      <td>10</td>\n",
       "      <td>79700.0</td>\n",
       "      <td>1</td>\n",
       "    </tr>\n",
       "    <tr>\n",
       "      <th>2</th>\n",
       "      <td>M430112881</td>\n",
       "      <td>A01000003148</td>\n",
       "      <td>1</td>\n",
       "      <td>A01</td>\n",
       "      <td>A010039</td>\n",
       "      <td>PD0290</td>\n",
       "      <td>20210101</td>\n",
       "      <td>10</td>\n",
       "      <td>19000.0</td>\n",
       "      <td>1</td>\n",
       "    </tr>\n",
       "    <tr>\n",
       "      <th>3</th>\n",
       "      <td>M430112881</td>\n",
       "      <td>A01000003148</td>\n",
       "      <td>1</td>\n",
       "      <td>A01</td>\n",
       "      <td>A010039</td>\n",
       "      <td>PD0290</td>\n",
       "      <td>20210101</td>\n",
       "      <td>10</td>\n",
       "      <td>19000.0</td>\n",
       "      <td>1</td>\n",
       "    </tr>\n",
       "    <tr>\n",
       "      <th>4</th>\n",
       "      <td>M430112881</td>\n",
       "      <td>A01000004946</td>\n",
       "      <td>1</td>\n",
       "      <td>A01</td>\n",
       "      <td>A010039</td>\n",
       "      <td>PD0290</td>\n",
       "      <td>20210101</td>\n",
       "      <td>10</td>\n",
       "      <td>19000.0</td>\n",
       "      <td>1</td>\n",
       "    </tr>\n",
       "  </tbody>\n",
       "</table>\n",
       "</div>"
      ],
      "text/plain": [
       "         고객번호         영수증번호  채널구분  제휴사     점포코드    상품코드      구매일자  구매시간  \\\n",
       "0  M430112881  A01000001113     1  A01  A010039  PD0290  20210101    10   \n",
       "1  M646853852  A01000002265     1  A01  A010025  PD1369  20210101    10   \n",
       "2  M430112881  A01000003148     1  A01  A010039  PD0290  20210101    10   \n",
       "3  M430112881  A01000003148     1  A01  A010039  PD0290  20210101    10   \n",
       "4  M430112881  A01000004946     1  A01  A010039  PD0290  20210101    10   \n",
       "\n",
       "      구매금액  구매수량  \n",
       "0  15000.0     1  \n",
       "1  79700.0     1  \n",
       "2  19000.0     1  \n",
       "3  19000.0     1  \n",
       "4  19000.0     1  "
      ]
     },
     "execution_count": 6,
     "metadata": {},
     "output_type": "execute_result"
    }
   ],
   "source": [
    "product_use.head()"
   ]
  },
  {
   "cell_type": "code",
   "execution_count": 61,
   "metadata": {},
   "outputs": [
    {
     "data": {
      "image/png": "[encoded data removed]",
      "text/plain": [
       "<Figure size 288x144 with 1 Axes>"
      ]
     },
     "metadata": {
      "needs_background": "light"
     },
     "output_type": "display_data"
    },
    {
     "name": "stdout",
     "output_type": "stream",
     "text": [
      "0.09779236253700868\n"
     ]
    }
   ],
   "source": [
    "plt.figure(figsize=(4, 2)) \n",
    "sns.heatmap(product_use.isnull(), cbar=False)\n",
    "plt.show()\n",
    "print(product_use.점포코드.isnull().sum()/product_use.shape[0])"
   ]
  },
  {
   "cell_type": "code",
   "execution_count": 7,
   "metadata": {},
   "outputs": [
    {
     "data": {
      "text/html": [
       "<div>\n",
       "<style scoped>\n",
       "    .dataframe tbody tr th:only-of-type {\n",
       "        vertical-align: middle;\n",
       "    }\n",
       "\n",
       "    .dataframe tbody tr th {\n",
       "        vertical-align: top;\n",
       "    }\n",
       "\n",
       "    .dataframe thead th {\n",
       "        text-align: right;\n",
       "    }\n",
       "</style>\n",
       "<table border=\"1\" class=\"dataframe\">\n",
       "  <thead>\n",
       "    <tr style=\"text-align: right;\">\n",
       "      <th></th>\n",
       "      <th>고객번호</th>\n",
       "      <th>영수증번호</th>\n",
       "      <th>제휴사</th>\n",
       "      <th>점포코드</th>\n",
       "      <th>채널구분</th>\n",
       "      <th>이용일자</th>\n",
       "      <th>방문일자</th>\n",
       "      <th>이용시간</th>\n",
       "      <th>이용금액</th>\n",
       "    </tr>\n",
       "  </thead>\n",
       "  <tbody>\n",
       "    <tr>\n",
       "      <th>0</th>\n",
       "      <td>M839993508</td>\n",
       "      <td>21102612B015763935</td>\n",
       "      <td>B01</td>\n",
       "      <td>B010012</td>\n",
       "      <td>1</td>\n",
       "      <td>20211026</td>\n",
       "      <td>20211026</td>\n",
       "      <td>12</td>\n",
       "      <td>60000</td>\n",
       "    </tr>\n",
       "    <tr>\n",
       "      <th>1</th>\n",
       "      <td>M839993508</td>\n",
       "      <td>21110610B014219744</td>\n",
       "      <td>B01</td>\n",
       "      <td>B010012</td>\n",
       "      <td>1</td>\n",
       "      <td>20211106</td>\n",
       "      <td>20211106</td>\n",
       "      <td>10</td>\n",
       "      <td>17100</td>\n",
       "    </tr>\n",
       "    <tr>\n",
       "      <th>2</th>\n",
       "      <td>M839993508</td>\n",
       "      <td>21021112B013419710</td>\n",
       "      <td>B01</td>\n",
       "      <td>B010012</td>\n",
       "      <td>1</td>\n",
       "      <td>20210211</td>\n",
       "      <td>20210211</td>\n",
       "      <td>12</td>\n",
       "      <td>136500</td>\n",
       "    </tr>\n",
       "    <tr>\n",
       "      <th>3</th>\n",
       "      <td>M839993508</td>\n",
       "      <td>21092010B012637545</td>\n",
       "      <td>B01</td>\n",
       "      <td>B010012</td>\n",
       "      <td>1</td>\n",
       "      <td>20210920</td>\n",
       "      <td>20210920</td>\n",
       "      <td>10</td>\n",
       "      <td>34200</td>\n",
       "    </tr>\n",
       "    <tr>\n",
       "      <th>4</th>\n",
       "      <td>M839993508</td>\n",
       "      <td>21101009D015920171</td>\n",
       "      <td>D01</td>\n",
       "      <td>D010614</td>\n",
       "      <td>1</td>\n",
       "      <td>20211010</td>\n",
       "      <td>20211010</td>\n",
       "      <td>9</td>\n",
       "      <td>2500</td>\n",
       "    </tr>\n",
       "  </tbody>\n",
       "</table>\n",
       "</div>"
      ],
      "text/plain": [
       "         고객번호               영수증번호  제휴사     점포코드  채널구분      이용일자      방문일자  \\\n",
       "0  M839993508  21102612B015763935  B01  B010012     1  20211026  20211026   \n",
       "1  M839993508  21110610B014219744  B01  B010012     1  20211106  20211106   \n",
       "2  M839993508  21021112B013419710  B01  B010012     1  20210211  20210211   \n",
       "3  M839993508  21092010B012637545  B01  B010012     1  20210920  20210920   \n",
       "4  M839993508  21101009D015920171  D01  D010614     1  20211010  20211010   \n",
       "\n",
       "   이용시간    이용금액  \n",
       "0    12   60000  \n",
       "1    10   17100  \n",
       "2    12  136500  \n",
       "3    10   34200  \n",
       "4     9    2500  "
      ]
     },
     "execution_count": 7,
     "metadata": {},
     "output_type": "execute_result"
    }
   ],
   "source": [
    "serv_use.head()"
   ]
  },
  {
   "cell_type": "code",
   "execution_count": 7,
   "metadata": {},
   "outputs": [
    {
     "data": {
      "image/png": "[encoded data removed]",
      "text/plain": [
       "<Figure size 288x144 with 1 Axes>"
      ]
     },
     "metadata": {
      "needs_background": "light"
     },
     "output_type": "display_data"
    }
   ],
   "source": [
    "plt.figure(figsize=(4, 2)) \n",
    "sns.heatmap(serv_use.isnull(), cbar=False)\n",
    "plt.show()"
   ]
  },
  {
   "cell_type": "code",
   "execution_count": 9,
   "metadata": {},
   "outputs": [
    {
     "data": {
      "text/html": [
       "<div>\n",
       "<style scoped>\n",
       "    .dataframe tbody tr th:only-of-type {\n",
       "        vertical-align: middle;\n",
       "    }\n",
       "\n",
       "    .dataframe tbody tr th {\n",
       "        vertical-align: top;\n",
       "    }\n",
       "\n",
       "    .dataframe thead th {\n",
       "        text-align: right;\n",
       "    }\n",
       "</style>\n",
       "<table border=\"1\" class=\"dataframe\">\n",
       "  <thead>\n",
       "    <tr style=\"text-align: right;\">\n",
       "      <th></th>\n",
       "      <th>상품코드</th>\n",
       "      <th>소분류명</th>\n",
       "      <th>중분류명</th>\n",
       "      <th>대분류명</th>\n",
       "    </tr>\n",
       "  </thead>\n",
       "  <tbody>\n",
       "    <tr>\n",
       "      <th>0</th>\n",
       "      <td>PD0001</td>\n",
       "      <td>소파</td>\n",
       "      <td>가구</td>\n",
       "      <td>거실가구</td>\n",
       "    </tr>\n",
       "    <tr>\n",
       "      <th>1</th>\n",
       "      <td>PD0002</td>\n",
       "      <td>스툴/리빙의자</td>\n",
       "      <td>가구</td>\n",
       "      <td>거실가구</td>\n",
       "    </tr>\n",
       "    <tr>\n",
       "      <th>2</th>\n",
       "      <td>PD0003</td>\n",
       "      <td>탁자</td>\n",
       "      <td>가구</td>\n",
       "      <td>거실가구</td>\n",
       "    </tr>\n",
       "    <tr>\n",
       "      <th>3</th>\n",
       "      <td>PD0004</td>\n",
       "      <td>장식장/진열장</td>\n",
       "      <td>가구</td>\n",
       "      <td>거실가구</td>\n",
       "    </tr>\n",
       "    <tr>\n",
       "      <th>4</th>\n",
       "      <td>PD0005</td>\n",
       "      <td>기타가구</td>\n",
       "      <td>가구</td>\n",
       "      <td>기타가구</td>\n",
       "    </tr>\n",
       "  </tbody>\n",
       "</table>\n",
       "</div>"
      ],
      "text/plain": [
       "     상품코드     소분류명 중분류명  대분류명\n",
       "0  PD0001       소파   가구  거실가구\n",
       "1  PD0002  스툴/리빙의자   가구  거실가구\n",
       "2  PD0003       탁자   가구  거실가구\n",
       "3  PD0004  장식장/진열장   가구  거실가구\n",
       "4  PD0005     기타가구   가구  기타가구"
      ]
     },
     "execution_count": 9,
     "metadata": {},
     "output_type": "execute_result"
    }
   ],
   "source": [
    "product.head()"
   ]
  },
  {
   "cell_type": "code",
   "execution_count": 8,
   "metadata": {},
   "outputs": [
    {
     "data": {
      "image/png": "[encoded data removed]",
      "text/plain": [
       "<Figure size 288x144 with 1 Axes>"
      ]
     },
     "metadata": {
      "needs_background": "light"
     },
     "output_type": "display_data"
    }
   ],
   "source": [
    "plt.figure(figsize=(4, 2)) \n",
    "sns.heatmap(product.isnull(), cbar=False)\n",
    "plt.show()"
   ]
  },
  {
   "cell_type": "code",
   "execution_count": 46,
   "metadata": {},
   "outputs": [
    {
     "data": {
      "text/html": [
       "<div>\n",
       "<style scoped>\n",
       "    .dataframe tbody tr th:only-of-type {\n",
       "        vertical-align: middle;\n",
       "    }\n",
       "\n",
       "    .dataframe tbody tr th {\n",
       "        vertical-align: top;\n",
       "    }\n",
       "\n",
       "    .dataframe thead th {\n",
       "        text-align: right;\n",
       "    }\n",
       "</style>\n",
       "<table border=\"1\" class=\"dataframe\">\n",
       "  <thead>\n",
       "    <tr style=\"text-align: right;\">\n",
       "      <th></th>\n",
       "      <th>점포코드</th>\n",
       "      <th>제휴사</th>\n",
       "      <th>점포대분류코드</th>\n",
       "      <th>점포중분류코드</th>\n",
       "    </tr>\n",
       "  </thead>\n",
       "  <tbody>\n",
       "    <tr>\n",
       "      <th>0</th>\n",
       "      <td>A010001</td>\n",
       "      <td>A01</td>\n",
       "      <td>Z17</td>\n",
       "      <td>Z17024</td>\n",
       "    </tr>\n",
       "    <tr>\n",
       "      <th>1</th>\n",
       "      <td>A010002</td>\n",
       "      <td>A01</td>\n",
       "      <td>Z17</td>\n",
       "      <td>Z17018</td>\n",
       "    </tr>\n",
       "    <tr>\n",
       "      <th>2</th>\n",
       "      <td>A010003</td>\n",
       "      <td>A01</td>\n",
       "      <td>Z17</td>\n",
       "      <td>Z17011</td>\n",
       "    </tr>\n",
       "    <tr>\n",
       "      <th>3</th>\n",
       "      <td>A010004</td>\n",
       "      <td>A01</td>\n",
       "      <td>Z16</td>\n",
       "      <td>Z16007</td>\n",
       "    </tr>\n",
       "    <tr>\n",
       "      <th>4</th>\n",
       "      <td>A010005</td>\n",
       "      <td>A01</td>\n",
       "      <td>Z17</td>\n",
       "      <td>Z17005</td>\n",
       "    </tr>\n",
       "  </tbody>\n",
       "</table>\n",
       "</div>"
      ],
      "text/plain": [
       "      점포코드  제휴사 점포대분류코드 점포중분류코드\n",
       "0  A010001  A01     Z17  Z17024\n",
       "1  A010002  A01     Z17  Z17018\n",
       "2  A010003  A01     Z17  Z17011\n",
       "3  A010004  A01     Z16  Z16007\n",
       "4  A010005  A01     Z17  Z17005"
      ]
     },
     "execution_count": 46,
     "metadata": {},
     "output_type": "execute_result"
    }
   ],
   "source": [
    "brand.head()"
   ]
  },
  {
   "cell_type": "code",
   "execution_count": 9,
   "metadata": {},
   "outputs": [
    {
     "data": {
      "image/png": "[encoded data removed]",
      "text/plain": [
       "<Figure size 288x144 with 1 Axes>"
      ]
     },
     "metadata": {
      "needs_background": "light"
     },
     "output_type": "display_data"
    }
   ],
   "source": [
    "plt.figure(figsize=(4, 2)) \n",
    "sns.heatmap(brand.isnull(), cbar=False)\n",
    "plt.show()"
   ]
  },
  {
   "cell_type": "code",
   "execution_count": 53,
   "metadata": {},
   "outputs": [
    {
     "data": {
      "text/html": [
       "<div>\n",
       "<style scoped>\n",
       "    .dataframe tbody tr th:only-of-type {\n",
       "        vertical-align: middle;\n",
       "    }\n",
       "\n",
       "    .dataframe tbody tr th {\n",
       "        vertical-align: top;\n",
       "    }\n",
       "\n",
       "    .dataframe thead th {\n",
       "        text-align: right;\n",
       "    }\n",
       "</style>\n",
       "<table border=\"1\" class=\"dataframe\">\n",
       "  <thead>\n",
       "    <tr style=\"text-align: right;\">\n",
       "      <th></th>\n",
       "      <th>고객번호</th>\n",
       "      <th>영수증번호</th>\n",
       "      <th>제휴사</th>\n",
       "      <th>채널구분</th>\n",
       "      <th>이용일자</th>\n",
       "      <th>이용시간</th>\n",
       "      <th>이용금액</th>\n",
       "    </tr>\n",
       "  </thead>\n",
       "  <tbody>\n",
       "    <tr>\n",
       "      <th>0</th>\n",
       "      <td>M629656521</td>\n",
       "      <td>210803210311226</td>\n",
       "      <td>A03</td>\n",
       "      <td>1</td>\n",
       "      <td>20210803</td>\n",
       "      <td>21</td>\n",
       "      <td>10900</td>\n",
       "    </tr>\n",
       "    <tr>\n",
       "      <th>1</th>\n",
       "      <td>M216016456</td>\n",
       "      <td>210803130167542</td>\n",
       "      <td>L01</td>\n",
       "      <td>2</td>\n",
       "      <td>20210803</td>\n",
       "      <td>13</td>\n",
       "      <td>6860</td>\n",
       "    </tr>\n",
       "    <tr>\n",
       "      <th>2</th>\n",
       "      <td>M205142844</td>\n",
       "      <td>210803140275112</td>\n",
       "      <td>A02</td>\n",
       "      <td>1</td>\n",
       "      <td>20210803</td>\n",
       "      <td>14</td>\n",
       "      <td>9000</td>\n",
       "    </tr>\n",
       "    <tr>\n",
       "      <th>3</th>\n",
       "      <td>M737010483</td>\n",
       "      <td>210803040637594</td>\n",
       "      <td>A06</td>\n",
       "      <td>2</td>\n",
       "      <td>20210803</td>\n",
       "      <td>4</td>\n",
       "      <td>36740</td>\n",
       "    </tr>\n",
       "    <tr>\n",
       "      <th>4</th>\n",
       "      <td>M707775545</td>\n",
       "      <td>210803140675502</td>\n",
       "      <td>A06</td>\n",
       "      <td>2</td>\n",
       "      <td>20210803</td>\n",
       "      <td>14</td>\n",
       "      <td>138500</td>\n",
       "    </tr>\n",
       "  </tbody>\n",
       "</table>\n",
       "</div>"
      ],
      "text/plain": [
       "         고객번호            영수증번호  제휴사  채널구분      이용일자  이용시간    이용금액\n",
       "0  M629656521  210803210311226  A03     1  20210803    21   10900\n",
       "1  M216016456  210803130167542  L01     2  20210803    13    6860\n",
       "2  M205142844  210803140275112  A02     1  20210803    14    9000\n",
       "3  M737010483  210803040637594  A06     2  20210803     4   36740\n",
       "4  M707775545  210803140675502  A06     2  20210803    14  138500"
      ]
     },
     "execution_count": 53,
     "metadata": {},
     "output_type": "execute_result"
    }
   ],
   "source": [
    "lpay.head()"
   ]
  },
  {
   "cell_type": "code",
   "execution_count": 10,
   "metadata": {},
   "outputs": [
    {
     "data": {
      "image/png": "[encoded data removed]",
      "text/plain": [
       "<Figure size 288x144 with 1 Axes>"
      ]
     },
     "metadata": {
      "needs_background": "light"
     },
     "output_type": "display_data"
    }
   ],
   "source": [
    "plt.figure(figsize=(4, 2)) \n",
    "sns.heatmap(lpay.isnull(), cbar=False)\n",
    "plt.show()"
   ]
  },
  {
   "cell_type": "code",
   "execution_count": 4,
   "metadata": {},
   "outputs": [
    {
     "data": {
      "text/plain": [
       "(array(['A01', 'A02', 'A03', 'A04', 'A05', 'A06'], dtype=object),\n",
       " array(['B01', 'D01', 'C01', 'D02', 'C02', 'E01'], dtype=object))"
      ]
     },
     "execution_count": 4,
     "metadata": {},
     "output_type": "execute_result"
    }
   ],
   "source": [
    "product_use.제휴사.unique(), serv_use.제휴사.unique()"
   ]
  },
  {
   "cell_type": "code",
   "execution_count": 5,
   "metadata": {},
   "outputs": [
    {
     "data": {
      "text/plain": [
       "(11,\n",
       " array(['A01', 'A02', 'A03', 'A04', 'A05', 'B01', 'C01', 'C02', 'D01',\n",
       "        'D02', 'E01'], dtype=object))"
      ]
     },
     "execution_count": 5,
     "metadata": {},
     "output_type": "execute_result"
    }
   ],
   "source": [
    "brand.제휴사.nunique(),brand.제휴사.unique() # A06 제휴사가 없음"
   ]
  },
  {
   "cell_type": "code",
   "execution_count": 38,
   "metadata": {},
   "outputs": [
    {
     "data": {
      "text/plain": [
       "(14,\n",
       " array(['A03', 'L01', 'A02', 'A06', 'A01', 'C01', 'D02', 'A04', 'L00',\n",
       "        'D01', 'A05', 'C02', 'E01', 'B01'], dtype=object))"
      ]
     },
     "execution_count": 38,
     "metadata": {},
     "output_type": "execute_result"
    }
   ],
   "source": [
    "lpay.제휴사.nunique(), lpay.제휴사.unique() # l00, l01 제휴사가 있음 -- 엘포인트 제휴사같은 예외적인 것? 롯데 제휴사 인것으로 보임"
   ]
  },
  {
   "cell_type": "code",
   "execution_count": 4,
   "metadata": {},
   "outputs": [],
   "source": [
    "# fig, ax = plt.subplots(3,2, figsize=(32,16))\n",
    "# sns.heatmap(customer.isnull(), cbar=False,ax=ax[0])\n",
    "# ax[0].set_xticklabels(customer.columns, rotation='vertical')\n",
    "\n",
    "# sns.heatmap(product_use.isnull(), cbar=False,ax=ax[1])\n",
    "# sns.heatmap(serv_use.isnull(), cbar=False,ax=ax[2])\n",
    "# sns.heatmap(product.isnull(), cbar=False,ax=ax[3])\n",
    "# sns.heatmap(brand.isnull(), cbar=False,ax=ax[4])\n",
    "# sns.heatmap(lpay.isnull(), cbar=False,ax=ax[5])\n",
    "# plt.show()"
   ]
  },
  {
   "cell_type": "markdown",
   "metadata": {},
   "source": [
    "#### ## product_use에서 점포코드만 결측치가 있는 것으로 보임."
   ]
  },
  {
   "cell_type": "markdown",
   "metadata": {},
   "source": [
    "---"
   ]
  },
  {
   "cell_type": "markdown",
   "metadata": {},
   "source": [
    "### Product_use 와 Serv_use  확인"
   ]
  },
  {
   "cell_type": "code",
   "execution_count": 142,
   "metadata": {},
   "outputs": [
    {
     "data": {
      "text/plain": [
       "((18930, 26917, 21769), (0, 1266589, 248304))"
      ]
     },
     "execution_count": 142,
     "metadata": {},
     "output_type": "execute_result"
    }
   ],
   "source": [
    "intersection_1 = list(set(product_use.고객번호.unique()) & set(serv_use.고객번호.unique()))\n",
    "intersection_2 = list(set(product_use.영수증번호.unique()) & set(serv_use.영수증번호.unique()))\n",
    "(len(intersection_1),len(product_use.고객번호.unique()),len(serv_use.고객번호.unique())),(len(intersection_2),len(product_use.영수증번호.unique()),len(serv_use.영수증번호.unique()))\n",
    "# 겹치는 고객은 있지만 겹치는 영수증은 없다.\n",
    "# 그렇다면 고객이 제휴사 서비스를 몇번 사용했는지만 사용할 수 있을 것으로 보인다."
   ]
  },
  {
   "cell_type": "code",
   "execution_count": 233,
   "metadata": {},
   "outputs": [
    {
     "data": {
      "text/plain": [
       "count    2.483040e+05\n",
       "mean     2.013066e+04\n",
       "std      2.430121e+05\n",
       "min      1.000000e+00\n",
       "25%      5.000000e+03\n",
       "50%      9.000000e+03\n",
       "75%      1.580000e+04\n",
       "max      7.009200e+07\n",
       "Name: 이용금액, dtype: float64"
      ]
     },
     "execution_count": 233,
     "metadata": {},
     "output_type": "execute_result"
    }
   ],
   "source": [
    "serv_use.이용금액.describe()\n",
    "# 또는 고객별 제휴사 서비스 이용금액을 수치로 사용할 수도 있다.\n",
    "# 우려되는 점은 최대, 최소의 격차가 크다는 것"
   ]
  },
  {
   "cell_type": "code",
   "execution_count": 261,
   "metadata": {},
   "outputs": [
    {
     "data": {
      "text/html": [
       "<div>\n",
       "<style scoped>\n",
       "    .dataframe tbody tr th:only-of-type {\n",
       "        vertical-align: middle;\n",
       "    }\n",
       "\n",
       "    .dataframe tbody tr th {\n",
       "        vertical-align: top;\n",
       "    }\n",
       "\n",
       "    .dataframe thead th {\n",
       "        text-align: right;\n",
       "    }\n",
       "</style>\n",
       "<table border=\"1\" class=\"dataframe\">\n",
       "  <thead>\n",
       "    <tr style=\"text-align: right;\">\n",
       "      <th></th>\n",
       "      <th>고객번호</th>\n",
       "      <th>영수증번호</th>\n",
       "      <th>제휴사</th>\n",
       "      <th>점포코드</th>\n",
       "      <th>채널구분</th>\n",
       "      <th>이용일자</th>\n",
       "      <th>방문일자</th>\n",
       "      <th>이용시간</th>\n",
       "      <th>이용금액</th>\n",
       "    </tr>\n",
       "  </thead>\n",
       "  <tbody>\n",
       "    <tr>\n",
       "      <th>7310</th>\n",
       "      <td>M932721973</td>\n",
       "      <td>21061114C022840110</td>\n",
       "      <td>C02</td>\n",
       "      <td>C020002</td>\n",
       "      <td>1</td>\n",
       "      <td>20210611</td>\n",
       "      <td>20210611</td>\n",
       "      <td>14</td>\n",
       "      <td>4500</td>\n",
       "    </tr>\n",
       "    <tr>\n",
       "      <th>7311</th>\n",
       "      <td>M932721973</td>\n",
       "      <td>21061116C025518564</td>\n",
       "      <td>C02</td>\n",
       "      <td>C020002</td>\n",
       "      <td>1</td>\n",
       "      <td>20210611</td>\n",
       "      <td>20210611</td>\n",
       "      <td>16</td>\n",
       "      <td>12000</td>\n",
       "    </tr>\n",
       "    <tr>\n",
       "      <th>7312</th>\n",
       "      <td>M932721973</td>\n",
       "      <td>21080817C025842720</td>\n",
       "      <td>C02</td>\n",
       "      <td>C020002</td>\n",
       "      <td>1</td>\n",
       "      <td>20210808</td>\n",
       "      <td>20210808</td>\n",
       "      <td>17</td>\n",
       "      <td>4200</td>\n",
       "    </tr>\n",
       "    <tr>\n",
       "      <th>7313</th>\n",
       "      <td>M932721973</td>\n",
       "      <td>21051517C025117275</td>\n",
       "      <td>C02</td>\n",
       "      <td>C020002</td>\n",
       "      <td>1</td>\n",
       "      <td>20210515</td>\n",
       "      <td>20210515</td>\n",
       "      <td>17</td>\n",
       "      <td>10000</td>\n",
       "    </tr>\n",
       "    <tr>\n",
       "      <th>131812</th>\n",
       "      <td>M932721973</td>\n",
       "      <td>21061115C025726587</td>\n",
       "      <td>C02</td>\n",
       "      <td>C020002</td>\n",
       "      <td>1</td>\n",
       "      <td>20210611</td>\n",
       "      <td>20210611</td>\n",
       "      <td>15</td>\n",
       "      <td>25000</td>\n",
       "    </tr>\n",
       "    <tr>\n",
       "      <th>131813</th>\n",
       "      <td>M932721973</td>\n",
       "      <td>21061115C022916363</td>\n",
       "      <td>C02</td>\n",
       "      <td>C020002</td>\n",
       "      <td>1</td>\n",
       "      <td>20210611</td>\n",
       "      <td>20210611</td>\n",
       "      <td>15</td>\n",
       "      <td>1</td>\n",
       "    </tr>\n",
       "    <tr>\n",
       "      <th>131814</th>\n",
       "      <td>M932721973</td>\n",
       "      <td>21061115C020634890</td>\n",
       "      <td>C02</td>\n",
       "      <td>C020002</td>\n",
       "      <td>1</td>\n",
       "      <td>20210611</td>\n",
       "      <td>20210611</td>\n",
       "      <td>15</td>\n",
       "      <td>3500</td>\n",
       "    </tr>\n",
       "    <tr>\n",
       "      <th>131815</th>\n",
       "      <td>M932721973</td>\n",
       "      <td>21080817C020635369</td>\n",
       "      <td>C02</td>\n",
       "      <td>C020002</td>\n",
       "      <td>1</td>\n",
       "      <td>20210808</td>\n",
       "      <td>20210808</td>\n",
       "      <td>17</td>\n",
       "      <td>3000</td>\n",
       "    </tr>\n",
       "    <tr>\n",
       "      <th>131816</th>\n",
       "      <td>M932721973</td>\n",
       "      <td>21080818C021518157</td>\n",
       "      <td>C02</td>\n",
       "      <td>C020002</td>\n",
       "      <td>1</td>\n",
       "      <td>20210808</td>\n",
       "      <td>20210808</td>\n",
       "      <td>18</td>\n",
       "      <td>12000</td>\n",
       "    </tr>\n",
       "    <tr>\n",
       "      <th>131817</th>\n",
       "      <td>M932721973</td>\n",
       "      <td>21100917D014610770</td>\n",
       "      <td>D01</td>\n",
       "      <td>D010578</td>\n",
       "      <td>1</td>\n",
       "      <td>20211009</td>\n",
       "      <td>20211009</td>\n",
       "      <td>17</td>\n",
       "      <td>12300</td>\n",
       "    </tr>\n",
       "  </tbody>\n",
       "</table>\n",
       "</div>"
      ],
      "text/plain": [
       "              고객번호               영수증번호  제휴사     점포코드  채널구분      이용일자  \\\n",
       "7310    M932721973  21061114C022840110  C02  C020002     1  20210611   \n",
       "7311    M932721973  21061116C025518564  C02  C020002     1  20210611   \n",
       "7312    M932721973  21080817C025842720  C02  C020002     1  20210808   \n",
       "7313    M932721973  21051517C025117275  C02  C020002     1  20210515   \n",
       "131812  M932721973  21061115C025726587  C02  C020002     1  20210611   \n",
       "131813  M932721973  21061115C022916363  C02  C020002     1  20210611   \n",
       "131814  M932721973  21061115C020634890  C02  C020002     1  20210611   \n",
       "131815  M932721973  21080817C020635369  C02  C020002     1  20210808   \n",
       "131816  M932721973  21080818C021518157  C02  C020002     1  20210808   \n",
       "131817  M932721973  21100917D014610770  D01  D010578     1  20211009   \n",
       "\n",
       "            방문일자  이용시간   이용금액  \n",
       "7310    20210611    14   4500  \n",
       "7311    20210611    16  12000  \n",
       "7312    20210808    17   4200  \n",
       "7313    20210515    17  10000  \n",
       "131812  20210611    15  25000  \n",
       "131813  20210611    15      1  \n",
       "131814  20210611    15   3500  \n",
       "131815  20210808    17   3000  \n",
       "131816  20210808    18  12000  \n",
       "131817  20211009    17  12300  "
      ]
     },
     "execution_count": 261,
     "metadata": {},
     "output_type": "execute_result"
    }
   ],
   "source": [
    "serv_use[serv_use.고객번호 == serv_use[serv_use.이용금액 ==serv_use.이용금액.min()].iloc[0,0]]\n",
    "# 한 고객에 대해 확인해보니 평균값보다 합계를 활용하는 것이 좋을 것으로 보임."
   ]
  },
  {
   "cell_type": "markdown",
   "metadata": {},
   "source": [
    "결론적으로 상품구매정보와 제휴사이용정보간의 관게는 없다. 그래서 merge를 하는 것은 고객아이디를 이용하여 수치적인 값만 사용할 수 있을 것?"
   ]
  },
  {
   "cell_type": "code",
   "execution_count": 143,
   "metadata": {},
   "outputs": [
    {
     "data": {
      "text/plain": [
       "(428501, (428501, 10))"
      ]
     },
     "execution_count": 143,
     "metadata": {},
     "output_type": "execute_result"
    }
   ],
   "source": [
    "# 채널구분이 2인 것은 점포가 null값인 경우이다!\n",
    "product_use[product_use.채널구분==2].점포코드.isnull().sum(), product_use[product_use.채널구분==2].shape"
   ]
  },
  {
   "cell_type": "markdown",
   "metadata": {},
   "source": [
    "---"
   ]
  },
  {
   "cell_type": "markdown",
   "metadata": {},
   "source": [
    "### Product 와 Product_use 의 merge 가능성"
   ]
  },
  {
   "cell_type": "code",
   "execution_count": 109,
   "metadata": {},
   "outputs": [
    {
     "data": {
      "text/plain": [
       "(1933, 1933)"
      ]
     },
     "execution_count": 109,
     "metadata": {},
     "output_type": "execute_result"
    }
   ],
   "source": [
    "product.상품코드.nunique(), product_use.상품코드.nunique()\n",
    "# 상품코드는 정상"
   ]
  },
  {
   "cell_type": "markdown",
   "metadata": {},
   "source": [
    "### Customer 와 Product_use의 merge 가능성"
   ]
  },
  {
   "cell_type": "code",
   "execution_count": 222,
   "metadata": {},
   "outputs": [
    {
     "data": {
      "text/plain": [
       "(29913, 26917)"
      ]
     },
     "execution_count": 222,
     "metadata": {},
     "output_type": "execute_result"
    }
   ],
   "source": [
    "customer.고객번호.nunique(),product_use.고객번호.nunique()\n",
    "# 고객번호도 괜찮음"
   ]
  },
  {
   "cell_type": "markdown",
   "metadata": {},
   "source": [
    "---"
   ]
  },
  {
   "cell_type": "markdown",
   "metadata": {},
   "source": [
    "엘페이를 사용하는 것은 포인트 사용이라 생각하면 된다. \\\n",
    "상품을 구매하거나 제휴사를 이용할 때 금액을 돈을 내거나 또는 엘페이를 사용할 수 있는 것\\\n",
    "결론적으로 현재 데이터를 구분하자면\n",
    "1. 상품구매 2. 상품구매(엘페이) 3. 제휴사이용 4. 제휴사이용(엘페이)\n",
    "\n",
    "개인별로 제휴사를 많이 사용하거나, 상품을 많이 구매하거나 하는 사람이 있을 것\\\n",
    "그리고 그 개인이 엘포인트를 사용하는지, 아니면 그냥 돈으로 하는지도 나뉠 것"
   ]
  },
  {
   "cell_type": "markdown",
   "metadata": {},
   "source": [
    "일단 상품구매와 제휴사 이용을 같이 사용하는 것은 힘들 것으로 보인다...\n",
    "##### serv_use와 product_use를 merge 한다면 차이나는 컬럼을 정리해둔 것\n",
    "['고객번호', '영수증번호', '채널구분', '제휴사', '점포코드', '상품코드', '구매일자', '구매시간', '구매금액', '구매수량'] product_use\\\n",
    "-------------------------------------------------------------'이용일자', '방문일자', '이용시간', '이용금액'--------------serv_use"
   ]
  },
  {
   "cell_type": "markdown",
   "metadata": {},
   "source": [
    "---"
   ]
  },
  {
   "cell_type": "code",
   "execution_count": 80,
   "metadata": {},
   "outputs": [
    {
     "data": {
      "text/plain": [
       "(array(['C01'], dtype=object), (15572, 9))"
      ]
     },
     "execution_count": 80,
     "metadata": {},
     "output_type": "execute_result"
    }
   ],
   "source": [
    "# 제휴사이용정보에서 이용일자와 방문일자가 다른 것이 있다. 이는 결제일자, 제휴사의 유형에 따라 특정 제휴사가 그런 것. \n",
    "# 전부 제휴사가 C01 임\n",
    "serv_use[serv_use.이용일자!= serv_use.방문일자].제휴사.unique(), serv_use[serv_use.이용일자!= serv_use.방문일자].shape"
   ]
  },
  {
   "cell_type": "code",
   "execution_count": 78,
   "metadata": {},
   "outputs": [
    {
     "data": {
      "text/plain": [
       "48323"
      ]
     },
     "execution_count": 78,
     "metadata": {},
     "output_type": "execute_result"
    }
   ],
   "source": [
    "# C01의 전부는 아니다\n",
    "(serv_use.제휴사 == \"C01\").sum()"
   ]
  },
  {
   "cell_type": "code",
   "execution_count": 111,
   "metadata": {},
   "outputs": [],
   "source": [
    "pro_a = product_use.groupby('영수증번호')['상품코드'].nunique().reset_index()\n",
    "pro_a.columns = ['영수증번호','구매상품종류']"
   ]
  },
  {
   "cell_type": "code",
   "execution_count": 150,
   "metadata": {},
   "outputs": [
    {
     "data": {
      "text/plain": [
       "array([ 1,  2,  3, 11,  4,  5,  6, 20,  9, 12,  8,  7, 14, 15, 10, 24, 13,\n",
       "       17, 22, 23, 18, 19, 16, 21, 27, 25, 33, 29, 26, 28, 31, 39, 36, 30,\n",
       "       37, 34, 40, 32, 42, 35, 50, 62, 44, 46, 41, 38, 45, 51, 43, 55, 56,\n",
       "       49, 53, 75, 48, 47, 54, 52, 60], dtype=int64)"
      ]
     },
     "execution_count": 150,
     "metadata": {},
     "output_type": "execute_result"
    }
   ],
   "source": [
    "pro_a.구매상품종류.unique()"
   ]
  },
  {
   "cell_type": "code",
   "execution_count": 118,
   "metadata": {
    "scrolled": false
   },
   "outputs": [
    {
     "data": {
      "text/html": [
       "<div>\n",
       "<style scoped>\n",
       "    .dataframe tbody tr th:only-of-type {\n",
       "        vertical-align: middle;\n",
       "    }\n",
       "\n",
       "    .dataframe tbody tr th {\n",
       "        vertical-align: top;\n",
       "    }\n",
       "\n",
       "    .dataframe thead th {\n",
       "        text-align: right;\n",
       "    }\n",
       "</style>\n",
       "<table border=\"1\" class=\"dataframe\">\n",
       "  <thead>\n",
       "    <tr style=\"text-align: right;\">\n",
       "      <th></th>\n",
       "      <th>고객번호</th>\n",
       "      <th>영수증번호</th>\n",
       "      <th>채널구분</th>\n",
       "      <th>제휴사</th>\n",
       "      <th>점포코드</th>\n",
       "      <th>상품코드</th>\n",
       "      <th>구매일자</th>\n",
       "      <th>구매시간</th>\n",
       "      <th>구매금액</th>\n",
       "      <th>구매수량</th>\n",
       "    </tr>\n",
       "  </thead>\n",
       "  <tbody>\n",
       "    <tr>\n",
       "      <th>522</th>\n",
       "      <td>M325661634</td>\n",
       "      <td>A01000371544</td>\n",
       "      <td>1</td>\n",
       "      <td>A01</td>\n",
       "      <td>A010011</td>\n",
       "      <td>PD1306</td>\n",
       "      <td>20210102</td>\n",
       "      <td>11</td>\n",
       "      <td>1980.0</td>\n",
       "      <td>1</td>\n",
       "    </tr>\n",
       "    <tr>\n",
       "      <th>523</th>\n",
       "      <td>M325661634</td>\n",
       "      <td>A01000371544</td>\n",
       "      <td>1</td>\n",
       "      <td>A01</td>\n",
       "      <td>A010011</td>\n",
       "      <td>PD0948</td>\n",
       "      <td>20210102</td>\n",
       "      <td>11</td>\n",
       "      <td>3780.0</td>\n",
       "      <td>1</td>\n",
       "    </tr>\n",
       "    <tr>\n",
       "      <th>524</th>\n",
       "      <td>M325661634</td>\n",
       "      <td>A01000371544</td>\n",
       "      <td>1</td>\n",
       "      <td>A01</td>\n",
       "      <td>A010011</td>\n",
       "      <td>PD0379</td>\n",
       "      <td>20210102</td>\n",
       "      <td>11</td>\n",
       "      <td>6500.0</td>\n",
       "      <td>1</td>\n",
       "    </tr>\n",
       "    <tr>\n",
       "      <th>525</th>\n",
       "      <td>M325661634</td>\n",
       "      <td>A01000371544</td>\n",
       "      <td>1</td>\n",
       "      <td>A01</td>\n",
       "      <td>A010011</td>\n",
       "      <td>PD1288</td>\n",
       "      <td>20210102</td>\n",
       "      <td>11</td>\n",
       "      <td>3500.0</td>\n",
       "      <td>1</td>\n",
       "    </tr>\n",
       "    <tr>\n",
       "      <th>526</th>\n",
       "      <td>M325661634</td>\n",
       "      <td>A01000371544</td>\n",
       "      <td>1</td>\n",
       "      <td>A01</td>\n",
       "      <td>A010011</td>\n",
       "      <td>PD1516</td>\n",
       "      <td>20210102</td>\n",
       "      <td>11</td>\n",
       "      <td>32300.0</td>\n",
       "      <td>1</td>\n",
       "    </tr>\n",
       "    <tr>\n",
       "      <th>527</th>\n",
       "      <td>M325661634</td>\n",
       "      <td>A01000371544</td>\n",
       "      <td>1</td>\n",
       "      <td>A01</td>\n",
       "      <td>A010011</td>\n",
       "      <td>PD0177</td>\n",
       "      <td>20210102</td>\n",
       "      <td>11</td>\n",
       "      <td>26000.0</td>\n",
       "      <td>1</td>\n",
       "    </tr>\n",
       "    <tr>\n",
       "      <th>528</th>\n",
       "      <td>M325661634</td>\n",
       "      <td>A01000371544</td>\n",
       "      <td>1</td>\n",
       "      <td>A01</td>\n",
       "      <td>A010011</td>\n",
       "      <td>PD1155</td>\n",
       "      <td>20210102</td>\n",
       "      <td>11</td>\n",
       "      <td>7960.0</td>\n",
       "      <td>2</td>\n",
       "    </tr>\n",
       "    <tr>\n",
       "      <th>529</th>\n",
       "      <td>M325661634</td>\n",
       "      <td>A01000371544</td>\n",
       "      <td>1</td>\n",
       "      <td>A01</td>\n",
       "      <td>A010011</td>\n",
       "      <td>PD1427</td>\n",
       "      <td>20210102</td>\n",
       "      <td>11</td>\n",
       "      <td>4500.0</td>\n",
       "      <td>1</td>\n",
       "    </tr>\n",
       "    <tr>\n",
       "      <th>530</th>\n",
       "      <td>M325661634</td>\n",
       "      <td>A01000371544</td>\n",
       "      <td>1</td>\n",
       "      <td>A01</td>\n",
       "      <td>A010011</td>\n",
       "      <td>PD1516</td>\n",
       "      <td>20210102</td>\n",
       "      <td>11</td>\n",
       "      <td>149280.0</td>\n",
       "      <td>1</td>\n",
       "    </tr>\n",
       "    <tr>\n",
       "      <th>531</th>\n",
       "      <td>M325661634</td>\n",
       "      <td>A01000371544</td>\n",
       "      <td>1</td>\n",
       "      <td>A01</td>\n",
       "      <td>A010011</td>\n",
       "      <td>PD1411</td>\n",
       "      <td>20210102</td>\n",
       "      <td>11</td>\n",
       "      <td>1360.0</td>\n",
       "      <td>1</td>\n",
       "    </tr>\n",
       "    <tr>\n",
       "      <th>532</th>\n",
       "      <td>M325661634</td>\n",
       "      <td>A01000371544</td>\n",
       "      <td>1</td>\n",
       "      <td>A01</td>\n",
       "      <td>A010011</td>\n",
       "      <td>PD1427</td>\n",
       "      <td>20210102</td>\n",
       "      <td>11</td>\n",
       "      <td>5900.0</td>\n",
       "      <td>1</td>\n",
       "    </tr>\n",
       "    <tr>\n",
       "      <th>533</th>\n",
       "      <td>M325661634</td>\n",
       "      <td>A01000371544</td>\n",
       "      <td>1</td>\n",
       "      <td>A01</td>\n",
       "      <td>A010011</td>\n",
       "      <td>PD1486</td>\n",
       "      <td>20210102</td>\n",
       "      <td>11</td>\n",
       "      <td>13000.0</td>\n",
       "      <td>1</td>\n",
       "    </tr>\n",
       "    <tr>\n",
       "      <th>534</th>\n",
       "      <td>M325661634</td>\n",
       "      <td>A01000371544</td>\n",
       "      <td>1</td>\n",
       "      <td>A01</td>\n",
       "      <td>A010011</td>\n",
       "      <td>PD1329</td>\n",
       "      <td>20210102</td>\n",
       "      <td>11</td>\n",
       "      <td>4500.0</td>\n",
       "      <td>1</td>\n",
       "    </tr>\n",
       "    <tr>\n",
       "      <th>535</th>\n",
       "      <td>M325661634</td>\n",
       "      <td>A01000371544</td>\n",
       "      <td>1</td>\n",
       "      <td>A01</td>\n",
       "      <td>A010011</td>\n",
       "      <td>PD1329</td>\n",
       "      <td>20210102</td>\n",
       "      <td>11</td>\n",
       "      <td>7000.0</td>\n",
       "      <td>1</td>\n",
       "    </tr>\n",
       "  </tbody>\n",
       "</table>\n",
       "</div>"
      ],
      "text/plain": [
       "           고객번호         영수증번호  채널구분  제휴사     점포코드    상품코드      구매일자  구매시간  \\\n",
       "522  M325661634  A01000371544     1  A01  A010011  PD1306  20210102    11   \n",
       "523  M325661634  A01000371544     1  A01  A010011  PD0948  20210102    11   \n",
       "524  M325661634  A01000371544     1  A01  A010011  PD0379  20210102    11   \n",
       "525  M325661634  A01000371544     1  A01  A010011  PD1288  20210102    11   \n",
       "526  M325661634  A01000371544     1  A01  A010011  PD1516  20210102    11   \n",
       "527  M325661634  A01000371544     1  A01  A010011  PD0177  20210102    11   \n",
       "528  M325661634  A01000371544     1  A01  A010011  PD1155  20210102    11   \n",
       "529  M325661634  A01000371544     1  A01  A010011  PD1427  20210102    11   \n",
       "530  M325661634  A01000371544     1  A01  A010011  PD1516  20210102    11   \n",
       "531  M325661634  A01000371544     1  A01  A010011  PD1411  20210102    11   \n",
       "532  M325661634  A01000371544     1  A01  A010011  PD1427  20210102    11   \n",
       "533  M325661634  A01000371544     1  A01  A010011  PD1486  20210102    11   \n",
       "534  M325661634  A01000371544     1  A01  A010011  PD1329  20210102    11   \n",
       "535  M325661634  A01000371544     1  A01  A010011  PD1329  20210102    11   \n",
       "\n",
       "         구매금액  구매수량  \n",
       "522    1980.0     1  \n",
       "523    3780.0     1  \n",
       "524    6500.0     1  \n",
       "525    3500.0     1  \n",
       "526   32300.0     1  \n",
       "527   26000.0     1  \n",
       "528    7960.0     2  \n",
       "529    4500.0     1  \n",
       "530  149280.0     1  \n",
       "531    1360.0     1  \n",
       "532    5900.0     1  \n",
       "533   13000.0     1  \n",
       "534    4500.0     1  \n",
       "535    7000.0     1  "
      ]
     },
     "execution_count": 118,
     "metadata": {},
     "output_type": "execute_result"
    }
   ],
   "source": [
    "product_use[product_use.영수증번호=='A01000371544']"
   ]
  },
  {
   "cell_type": "code",
   "execution_count": 113,
   "metadata": {
    "scrolled": false
   },
   "outputs": [
    {
     "data": {
      "text/html": [
       "<div>\n",
       "<style scoped>\n",
       "    .dataframe tbody tr th:only-of-type {\n",
       "        vertical-align: middle;\n",
       "    }\n",
       "\n",
       "    .dataframe tbody tr th {\n",
       "        vertical-align: top;\n",
       "    }\n",
       "\n",
       "    .dataframe thead th {\n",
       "        text-align: right;\n",
       "    }\n",
       "</style>\n",
       "<table border=\"1\" class=\"dataframe\">\n",
       "  <thead>\n",
       "    <tr style=\"text-align: right;\">\n",
       "      <th></th>\n",
       "      <th>고객번호</th>\n",
       "      <th>영수증번호</th>\n",
       "      <th>채널구분</th>\n",
       "      <th>제휴사</th>\n",
       "      <th>점포코드</th>\n",
       "      <th>상품코드</th>\n",
       "      <th>구매일자</th>\n",
       "      <th>구매시간</th>\n",
       "      <th>구매금액</th>\n",
       "      <th>구매수량</th>\n",
       "    </tr>\n",
       "  </thead>\n",
       "  <tbody>\n",
       "    <tr>\n",
       "      <th>529</th>\n",
       "      <td>M325661634</td>\n",
       "      <td>A01000371544</td>\n",
       "      <td>1</td>\n",
       "      <td>A01</td>\n",
       "      <td>A010011</td>\n",
       "      <td>PD1427</td>\n",
       "      <td>20210102</td>\n",
       "      <td>11</td>\n",
       "      <td>4500.0</td>\n",
       "      <td>1</td>\n",
       "    </tr>\n",
       "    <tr>\n",
       "      <th>532</th>\n",
       "      <td>M325661634</td>\n",
       "      <td>A01000371544</td>\n",
       "      <td>1</td>\n",
       "      <td>A01</td>\n",
       "      <td>A010011</td>\n",
       "      <td>PD1427</td>\n",
       "      <td>20210102</td>\n",
       "      <td>11</td>\n",
       "      <td>5900.0</td>\n",
       "      <td>1</td>\n",
       "    </tr>\n",
       "  </tbody>\n",
       "</table>\n",
       "</div>"
      ],
      "text/plain": [
       "           고객번호         영수증번호  채널구분  제휴사     점포코드    상품코드      구매일자  구매시간  \\\n",
       "529  M325661634  A01000371544     1  A01  A010011  PD1427  20210102    11   \n",
       "532  M325661634  A01000371544     1  A01  A010011  PD1427  20210102    11   \n",
       "\n",
       "       구매금액  구매수량  \n",
       "529  4500.0     1  \n",
       "532  5900.0     1  "
      ]
     },
     "execution_count": 113,
     "metadata": {},
     "output_type": "execute_result"
    }
   ],
   "source": [
    "a= product_use[product_use.영수증번호 =='A01000371544']\n",
    "a[a.상품코드 =='PD1427']"
   ]
  },
  {
   "cell_type": "markdown",
   "metadata": {},
   "source": [
    "1. \n",
    "상품구매정보를 보면 **같은 영수증을 가진 값에 상품코드가 여러개**이다.\\\n",
    "그런데 **한 영수증에서의 같은 상품코드인 행들이 여러개**있는 것도 있었다. 그래서 구매수량이 전부 1인가보다 했는데 찾아보니 그건 또 아니었다.\\\n",
    "그리고 **한 영수증에 같은 상품코드인 행의 구매금액이 다른 경우**도 찾아볼 수 있었다. \\\n",
    "해서 예상컨데 한 영수증에 같은 상품코드인데 따로 나누어져있는 것은 **하나로 합쳐주는 것이 맞을 것**으로 판단. 약간의 오류가 있었던 것으로 보임\\\n",
    "그렇게 하기 위해서는 고객번호, 영수증번호, 제휴사, 점포코드, 상품코드, 구매일자, 구매시간 모두 같을 때 구매금액과 구매수량을 합치는 것을 만들면 됨\n",
    "\n",
    "2. \n",
    "다른 생각으로는 같은 상품코드가 여러행으로 되어있던 것은 포스기 찍는 직원에 따라 결제방식이 달라서 그럴 수도 있나?\\\n",
    "그렇게 생각하면 한번에 여러개를 결제하는 방식 or 하나씩 결제하는 방식 때문에 위와같은 오류가 발생했을 것이다. \\\n",
    "그리고 같은 상품인데 가격이 다른 경우는 할인쿠폰을 사용하는 경우라고 생각할 수도 있을 것 같다.\n",
    "\n",
    "일단 합해주는 방식(1)으로 전처리를 진행하겠다"
   ]
  },
  {
   "cell_type": "code",
   "execution_count": 139,
   "metadata": {},
   "outputs": [
    {
     "data": {
      "text/html": [
       "<div>\n",
       "<style scoped>\n",
       "    .dataframe tbody tr th:only-of-type {\n",
       "        vertical-align: middle;\n",
       "    }\n",
       "\n",
       "    .dataframe tbody tr th {\n",
       "        vertical-align: top;\n",
       "    }\n",
       "\n",
       "    .dataframe thead th {\n",
       "        text-align: right;\n",
       "    }\n",
       "</style>\n",
       "<table border=\"1\" class=\"dataframe\">\n",
       "  <thead>\n",
       "    <tr style=\"text-align: right;\">\n",
       "      <th></th>\n",
       "      <th>고객번호</th>\n",
       "      <th>영수증번호</th>\n",
       "      <th>채널구분</th>\n",
       "      <th>제휴사</th>\n",
       "      <th>점포코드</th>\n",
       "      <th>상품코드</th>\n",
       "      <th>구매일자</th>\n",
       "      <th>구매시간</th>\n",
       "      <th>구매금액</th>\n",
       "      <th>구매수량</th>\n",
       "    </tr>\n",
       "  </thead>\n",
       "  <tbody>\n",
       "    <tr>\n",
       "      <th>1355775</th>\n",
       "      <td>M000034966</td>\n",
       "      <td>A02357398521</td>\n",
       "      <td>1</td>\n",
       "      <td>A02</td>\n",
       "      <td>A020116</td>\n",
       "      <td>PD0630</td>\n",
       "      <td>20210325</td>\n",
       "      <td>13</td>\n",
       "      <td>19900.0</td>\n",
       "      <td>1</td>\n",
       "    </tr>\n",
       "    <tr>\n",
       "      <th>1355776</th>\n",
       "      <td>M000034966</td>\n",
       "      <td>A02357398521</td>\n",
       "      <td>1</td>\n",
       "      <td>A02</td>\n",
       "      <td>A020116</td>\n",
       "      <td>PD0630</td>\n",
       "      <td>20210325</td>\n",
       "      <td>13</td>\n",
       "      <td>19900.0</td>\n",
       "      <td>1</td>\n",
       "    </tr>\n",
       "    <tr>\n",
       "      <th>1355777</th>\n",
       "      <td>M000034966</td>\n",
       "      <td>A02357398521</td>\n",
       "      <td>1</td>\n",
       "      <td>A02</td>\n",
       "      <td>A020116</td>\n",
       "      <td>PD0616</td>\n",
       "      <td>20210325</td>\n",
       "      <td>13</td>\n",
       "      <td>5000.0</td>\n",
       "      <td>1</td>\n",
       "    </tr>\n",
       "    <tr>\n",
       "      <th>1355778</th>\n",
       "      <td>M000034966</td>\n",
       "      <td>A02357398521</td>\n",
       "      <td>1</td>\n",
       "      <td>A02</td>\n",
       "      <td>A020116</td>\n",
       "      <td>PD0630</td>\n",
       "      <td>20210325</td>\n",
       "      <td>13</td>\n",
       "      <td>19900.0</td>\n",
       "      <td>1</td>\n",
       "    </tr>\n",
       "    <tr>\n",
       "      <th>1355779</th>\n",
       "      <td>M000034966</td>\n",
       "      <td>A02357398521</td>\n",
       "      <td>1</td>\n",
       "      <td>A02</td>\n",
       "      <td>A020116</td>\n",
       "      <td>PD0616</td>\n",
       "      <td>20210325</td>\n",
       "      <td>13</td>\n",
       "      <td>12900.0</td>\n",
       "      <td>1</td>\n",
       "    </tr>\n",
       "    <tr>\n",
       "      <th>1355780</th>\n",
       "      <td>M000034966</td>\n",
       "      <td>A02357398521</td>\n",
       "      <td>1</td>\n",
       "      <td>A02</td>\n",
       "      <td>A020116</td>\n",
       "      <td>PD0649</td>\n",
       "      <td>20210325</td>\n",
       "      <td>13</td>\n",
       "      <td>12900.0</td>\n",
       "      <td>1</td>\n",
       "    </tr>\n",
       "  </tbody>\n",
       "</table>\n",
       "</div>"
      ],
      "text/plain": [
       "               고객번호         영수증번호  채널구분  제휴사     점포코드    상품코드      구매일자  구매시간  \\\n",
       "1355775  M000034966  A02357398521     1  A02  A020116  PD0630  20210325    13   \n",
       "1355776  M000034966  A02357398521     1  A02  A020116  PD0630  20210325    13   \n",
       "1355777  M000034966  A02357398521     1  A02  A020116  PD0616  20210325    13   \n",
       "1355778  M000034966  A02357398521     1  A02  A020116  PD0630  20210325    13   \n",
       "1355779  M000034966  A02357398521     1  A02  A020116  PD0616  20210325    13   \n",
       "1355780  M000034966  A02357398521     1  A02  A020116  PD0649  20210325    13   \n",
       "\n",
       "            구매금액  구매수량  \n",
       "1355775  19900.0     1  \n",
       "1355776  19900.0     1  \n",
       "1355777   5000.0     1  \n",
       "1355778  19900.0     1  \n",
       "1355779  12900.0     1  \n",
       "1355780  12900.0     1  "
      ]
     },
     "execution_count": 139,
     "metadata": {},
     "output_type": "execute_result"
    }
   ],
   "source": [
    "product_use[product_use.영수증번호=='A02357398521']\n",
    "# PD0616 는 가격이 다르고 PD0630 는 가격이 같다. 혹시 하나만 가격이 다른거보면 할인쿠폰으로 인한 결과이거나 혹은 데이터상의 오류로 볼 수 있다."
   ]
  },
  {
   "cell_type": "markdown",
   "metadata": {},
   "source": [
    "## product_use_new"
   ]
  },
  {
   "cell_type": "code",
   "execution_count": 52,
   "metadata": {
    "scrolled": true
   },
   "outputs": [],
   "source": [
    "product_use_new = product_use.groupby(['고객번호','영수증번호','채널구분','제휴사','상품코드','구매일자','구매시간'])['구매금액','구매수량'].sum()\n",
    "product_use_new= product_use_new.reset_index()"
   ]
  },
  {
   "cell_type": "code",
   "execution_count": 5,
   "metadata": {},
   "outputs": [
    {
     "data": {
      "text/plain": [
       "array([ 2,  1,  3,  4,  5,  6, 10,  7,  8,  9, 11, 18, 13, 17, 12, 16, 15,\n",
       "       20, 23, 25, 29, 14, 19, 24], dtype=int64)"
      ]
     },
     "execution_count": 5,
     "metadata": {},
     "output_type": "execute_result"
    }
   ],
   "source": [
    "tes = product_use_new.groupby(['고객번호','영수증번호','채널구분','제휴사','구매일자','구매시간']).first().reset_index()\n",
    "testes = tes.groupby(['고객번호','채널구분','제휴사','구매일자','구매시간']).size().reset_index()\n",
    "testes.columns =['고객번호', '채널구분', '제휴사', '구매일자', '구매시간', '횟수']\n",
    "testes.횟수.unique()"
   ]
  },
  {
   "cell_type": "code",
   "execution_count": 6,
   "metadata": {},
   "outputs": [
    {
     "data": {
      "text/html": [
       "<div>\n",
       "<style scoped>\n",
       "    .dataframe tbody tr th:only-of-type {\n",
       "        vertical-align: middle;\n",
       "    }\n",
       "\n",
       "    .dataframe tbody tr th {\n",
       "        vertical-align: top;\n",
       "    }\n",
       "\n",
       "    .dataframe thead th {\n",
       "        text-align: right;\n",
       "    }\n",
       "</style>\n",
       "<table border=\"1\" class=\"dataframe\">\n",
       "  <thead>\n",
       "    <tr style=\"text-align: right;\">\n",
       "      <th></th>\n",
       "      <th>고객번호</th>\n",
       "      <th>채널구분</th>\n",
       "      <th>제휴사</th>\n",
       "      <th>구매일자</th>\n",
       "      <th>구매시간</th>\n",
       "      <th>횟수</th>\n",
       "    </tr>\n",
       "  </thead>\n",
       "  <tbody>\n",
       "    <tr>\n",
       "      <th>62180</th>\n",
       "      <td>M057015266</td>\n",
       "      <td>1</td>\n",
       "      <td>A04</td>\n",
       "      <td>20210929</td>\n",
       "      <td>21</td>\n",
       "      <td>20</td>\n",
       "    </tr>\n",
       "  </tbody>\n",
       "</table>\n",
       "</div>"
      ],
      "text/plain": [
       "             고객번호  채널구분  제휴사      구매일자  구매시간  횟수\n",
       "62180  M057015266     1  A04  20210929    21  20"
      ]
     },
     "execution_count": 6,
     "metadata": {},
     "output_type": "execute_result"
    }
   ],
   "source": [
    "testes.query(\"횟수==20\").head(1)"
   ]
  },
  {
   "cell_type": "code",
   "execution_count": 21,
   "metadata": {},
   "outputs": [
    {
     "data": {
      "text/html": [
       "<div>\n",
       "<style scoped>\n",
       "    .dataframe tbody tr th:only-of-type {\n",
       "        vertical-align: middle;\n",
       "    }\n",
       "\n",
       "    .dataframe tbody tr th {\n",
       "        vertical-align: top;\n",
       "    }\n",
       "\n",
       "    .dataframe thead th {\n",
       "        text-align: right;\n",
       "    }\n",
       "</style>\n",
       "<table border=\"1\" class=\"dataframe\">\n",
       "  <thead>\n",
       "    <tr style=\"text-align: right;\">\n",
       "      <th></th>\n",
       "      <th>고객번호</th>\n",
       "      <th>영수증번호</th>\n",
       "      <th>채널구분</th>\n",
       "      <th>제휴사</th>\n",
       "      <th>상품코드</th>\n",
       "      <th>구매일자</th>\n",
       "      <th>구매시간</th>\n",
       "      <th>구매금액</th>\n",
       "      <th>구매수량</th>\n",
       "    </tr>\n",
       "  </thead>\n",
       "  <tbody>\n",
       "    <tr>\n",
       "      <th>223153</th>\n",
       "      <td>M057015266</td>\n",
       "      <td>A04093823611</td>\n",
       "      <td>1</td>\n",
       "      <td>A04</td>\n",
       "      <td>PD0381</td>\n",
       "      <td>20210929</td>\n",
       "      <td>21</td>\n",
       "      <td>4500.0</td>\n",
       "      <td>1</td>\n",
       "    </tr>\n",
       "    <tr>\n",
       "      <th>223154</th>\n",
       "      <td>M057015266</td>\n",
       "      <td>A04093824129</td>\n",
       "      <td>1</td>\n",
       "      <td>A04</td>\n",
       "      <td>PD0381</td>\n",
       "      <td>20210929</td>\n",
       "      <td>21</td>\n",
       "      <td>4500.0</td>\n",
       "      <td>1</td>\n",
       "    </tr>\n",
       "    <tr>\n",
       "      <th>223155</th>\n",
       "      <td>M057015266</td>\n",
       "      <td>A04093825593</td>\n",
       "      <td>1</td>\n",
       "      <td>A04</td>\n",
       "      <td>PD0381</td>\n",
       "      <td>20210929</td>\n",
       "      <td>21</td>\n",
       "      <td>4500.0</td>\n",
       "      <td>1</td>\n",
       "    </tr>\n",
       "    <tr>\n",
       "      <th>223156</th>\n",
       "      <td>M057015266</td>\n",
       "      <td>A04093826462</td>\n",
       "      <td>1</td>\n",
       "      <td>A04</td>\n",
       "      <td>PD0381</td>\n",
       "      <td>20210929</td>\n",
       "      <td>21</td>\n",
       "      <td>4500.0</td>\n",
       "      <td>1</td>\n",
       "    </tr>\n",
       "    <tr>\n",
       "      <th>223157</th>\n",
       "      <td>M057015266</td>\n",
       "      <td>A04093827654</td>\n",
       "      <td>1</td>\n",
       "      <td>A04</td>\n",
       "      <td>PD0381</td>\n",
       "      <td>20210929</td>\n",
       "      <td>21</td>\n",
       "      <td>4500.0</td>\n",
       "      <td>1</td>\n",
       "    </tr>\n",
       "    <tr>\n",
       "      <th>223158</th>\n",
       "      <td>M057015266</td>\n",
       "      <td>A04093828901</td>\n",
       "      <td>1</td>\n",
       "      <td>A04</td>\n",
       "      <td>PD0381</td>\n",
       "      <td>20210929</td>\n",
       "      <td>21</td>\n",
       "      <td>4500.0</td>\n",
       "      <td>1</td>\n",
       "    </tr>\n",
       "    <tr>\n",
       "      <th>223159</th>\n",
       "      <td>M057015266</td>\n",
       "      <td>A04093829958</td>\n",
       "      <td>1</td>\n",
       "      <td>A04</td>\n",
       "      <td>PD0381</td>\n",
       "      <td>20210929</td>\n",
       "      <td>21</td>\n",
       "      <td>4500.0</td>\n",
       "      <td>1</td>\n",
       "    </tr>\n",
       "    <tr>\n",
       "      <th>223160</th>\n",
       "      <td>M057015266</td>\n",
       "      <td>A04093830235</td>\n",
       "      <td>1</td>\n",
       "      <td>A04</td>\n",
       "      <td>PD0381</td>\n",
       "      <td>20210929</td>\n",
       "      <td>21</td>\n",
       "      <td>4500.0</td>\n",
       "      <td>1</td>\n",
       "    </tr>\n",
       "    <tr>\n",
       "      <th>223161</th>\n",
       "      <td>M057015266</td>\n",
       "      <td>A04093831023</td>\n",
       "      <td>1</td>\n",
       "      <td>A04</td>\n",
       "      <td>PD0381</td>\n",
       "      <td>20210929</td>\n",
       "      <td>21</td>\n",
       "      <td>4500.0</td>\n",
       "      <td>1</td>\n",
       "    </tr>\n",
       "    <tr>\n",
       "      <th>223162</th>\n",
       "      <td>M057015266</td>\n",
       "      <td>A04093832289</td>\n",
       "      <td>1</td>\n",
       "      <td>A04</td>\n",
       "      <td>PD0381</td>\n",
       "      <td>20210929</td>\n",
       "      <td>21</td>\n",
       "      <td>4500.0</td>\n",
       "      <td>1</td>\n",
       "    </tr>\n",
       "  </tbody>\n",
       "</table>\n",
       "</div>"
      ],
      "text/plain": [
       "              고객번호         영수증번호  채널구분  제휴사    상품코드      구매일자  구매시간    구매금액  \\\n",
       "223153  M057015266  A04093823611     1  A04  PD0381  20210929    21  4500.0   \n",
       "223154  M057015266  A04093824129     1  A04  PD0381  20210929    21  4500.0   \n",
       "223155  M057015266  A04093825593     1  A04  PD0381  20210929    21  4500.0   \n",
       "223156  M057015266  A04093826462     1  A04  PD0381  20210929    21  4500.0   \n",
       "223157  M057015266  A04093827654     1  A04  PD0381  20210929    21  4500.0   \n",
       "223158  M057015266  A04093828901     1  A04  PD0381  20210929    21  4500.0   \n",
       "223159  M057015266  A04093829958     1  A04  PD0381  20210929    21  4500.0   \n",
       "223160  M057015266  A04093830235     1  A04  PD0381  20210929    21  4500.0   \n",
       "223161  M057015266  A04093831023     1  A04  PD0381  20210929    21  4500.0   \n",
       "223162  M057015266  A04093832289     1  A04  PD0381  20210929    21  4500.0   \n",
       "\n",
       "        구매수량  \n",
       "223153     1  \n",
       "223154     1  \n",
       "223155     1  \n",
       "223156     1  \n",
       "223157     1  \n",
       "223158     1  \n",
       "223159     1  \n",
       "223160     1  \n",
       "223161     1  \n",
       "223162     1  "
      ]
     },
     "execution_count": 21,
     "metadata": {},
     "output_type": "execute_result"
    }
   ],
   "source": [
    "product_use_new.query(\"고객번호=='M057015266' & 채널구분 ==1 & 제휴사 == 'A04' & 구매일자 == 20210929 & 구매시간 == 21\").head(10)"
   ]
  },
  {
   "cell_type": "code",
   "execution_count": 88,
   "metadata": {},
   "outputs": [
    {
     "data": {
      "text/plain": [
       "array(['A043075'], dtype=object)"
      ]
     },
     "execution_count": 88,
     "metadata": {},
     "output_type": "execute_result"
    }
   ],
   "source": [
    "product_use.query(\"고객번호=='M057015266' & 채널구분 ==1 & 제휴사 == 'A04' & 구매일자 == 20210929 & 구매시간 == 21\").점포코드.unique()"
   ]
  },
  {
   "cell_type": "markdown",
   "metadata": {},
   "source": [
    "같은 고객, 채널, 제휴사, 상품, 일자, 시간, 금액 다 같은데 1개씩 왜 다 영수증번호가 다른건데~~~~~~~~~~~ 진짜로\\\n",
    "그러면 영수증번호와 상관없이 고객, 채널, 제휴사, 상품, 구매일자, 구매시간 으로 해가지고 구매금액이랑 수량 합친 데이터로 만드는 것이 가장 적절하려나?\n",
    "\n",
    "정리\\\n",
    "'고객번호','채널구분','제휴사','구매일자','구매시간'은 일단 같다고 가정했을 때\n",
    "1. 영수증번호가 다른데 점포코드는 같은 경우\n",
    "2. 영수증번호도 다르고 점포코드는 다른 경우"
   ]
  },
  {
   "cell_type": "markdown",
   "metadata": {},
   "source": [
    "### 여기서부터 실행"
   ]
  },
  {
   "cell_type": "code",
   "execution_count": 4,
   "metadata": {},
   "outputs": [],
   "source": [
    "product_use_new = product_use.groupby(['고객번호','채널구분','제휴사','상품코드','구매일자','구매시간'])['구매금액','구매수량'].sum()\n",
    "product_use_new = product_use_new.reset_index()"
   ]
  },
  {
   "cell_type": "code",
   "execution_count": 5,
   "metadata": {},
   "outputs": [
    {
     "data": {
      "text/plain": [
       "array([  2,   1,   3,   4,   7,   6,   9,   5,  10,  14,  15,   8,  12,\n",
       "        36,  43,  11,  13,  16,  19,  24,  17,  30,  26,  18,  20,  21,\n",
       "        28,  23,  22,  31,  29,  40, 110,  32,  92,  33,  50,  27,  45,\n",
       "        34,  72,  90,  54,  52,  39,  38,  25,  69,  60,  46,  53,  99,\n",
       "        55], dtype=int64)"
      ]
     },
     "execution_count": 5,
     "metadata": {},
     "output_type": "execute_result"
    }
   ],
   "source": [
    "pp = product_use.groupby(['고객번호','채널구분','제휴사','상품코드','구매일자','구매시간'])['영수증번호'].size().reset_index()\n",
    "pp.영수증번호.unique()"
   ]
  },
  {
   "cell_type": "code",
   "execution_count": 6,
   "metadata": {},
   "outputs": [],
   "source": [
    "product_use_new = pd.merge(product_use_new, pp, how='left', on=['고객번호','채널구분','제휴사','상품코드','구매일자','구매시간'])\n",
    "product_use_new.columns = ['고객번호', '채널구분', '제휴사', '상품코드', '구매일자', '구매시간', '구매금액', '구매수량', '영수증갯수']"
   ]
  },
  {
   "cell_type": "code",
   "execution_count": 7,
   "metadata": {},
   "outputs": [
    {
     "data": {
      "text/plain": [
       "(3677135, 9)"
      ]
     },
     "execution_count": 7,
     "metadata": {},
     "output_type": "execute_result"
    }
   ],
   "source": [
    "product_use_new.shape"
   ]
  },
  {
   "cell_type": "code",
   "execution_count": 68,
   "metadata": {},
   "outputs": [
    {
     "data": {
      "text/plain": [
       "array([1, 0], dtype=int64)"
      ]
     },
     "execution_count": 68,
     "metadata": {},
     "output_type": "execute_result"
    }
   ],
   "source": [
    "product_use_new_1 = product_use.groupby(['고객번호','영수증번호','채널구분','제휴사','상품코드','구매일자','구매시간'])['점포코드'].nunique().reset_index()\n",
    "product_use_new_1.점포코드.unique()"
   ]
  },
  {
   "cell_type": "code",
   "execution_count": 100,
   "metadata": {},
   "outputs": [
    {
     "data": {
      "text/plain": [
       "((26917, 2), (35493, 3))"
      ]
     },
     "execution_count": 100,
     "metadata": {},
     "output_type": "execute_result"
    }
   ],
   "source": [
    "product_use.groupby(['고객번호']).size().reset_index().shape, product_use.groupby(['고객번호','채널구분']).size().reset_index().shape\n",
    "# 일반적으로 groupby를 할 때 key가 되는 열이 늘어나면 행의 갯수가 늘어나는 것이 당연한 결과"
   ]
  },
  {
   "cell_type": "code",
   "execution_count": 98,
   "metadata": {},
   "outputs": [
    {
     "data": {
      "text/plain": [
       "((3728554, 8), (3385185, 9))"
      ]
     },
     "execution_count": 98,
     "metadata": {},
     "output_type": "execute_result"
    }
   ],
   "source": [
    "product_use.groupby(['고객번호','영수증번호','채널구분','제휴사','상품코드','구매일자','구매시간']).size().reset_index().shape, \\\n",
    "product_use.groupby(['고객번호','영수증번호','채널구분','제휴사','점포코드','상품코드','구매일자','구매시간']).size().reset_index().shape\n",
    "# 여기서는 점포코드를 key로 추가하였는데 행이 줄어든 것을 볼 수 있음"
   ]
  },
  {
   "cell_type": "code",
   "execution_count": null,
   "metadata": {},
   "outputs": [],
   "source": []
  },
  {
   "cell_type": "code",
   "execution_count": 82,
   "metadata": {},
   "outputs": [
    {
     "data": {
      "text/plain": [
       "array([1, 0, 2, 3], dtype=int64)"
      ]
     },
     "execution_count": 82,
     "metadata": {},
     "output_type": "execute_result"
    }
   ],
   "source": [
    "product_use_new_1 = product_use.groupby(['고객번호','채널구분','제휴사','상품코드','구매일자','구매시간'])['점포코드'].nunique().reset_index()\n",
    "product_use_new_1.점포코드.unique()"
   ]
  },
  {
   "cell_type": "code",
   "execution_count": 83,
   "metadata": {},
   "outputs": [
    {
     "data": {
      "text/html": [
       "<div>\n",
       "<style scoped>\n",
       "    .dataframe tbody tr th:only-of-type {\n",
       "        vertical-align: middle;\n",
       "    }\n",
       "\n",
       "    .dataframe tbody tr th {\n",
       "        vertical-align: top;\n",
       "    }\n",
       "\n",
       "    .dataframe thead th {\n",
       "        text-align: right;\n",
       "    }\n",
       "</style>\n",
       "<table border=\"1\" class=\"dataframe\">\n",
       "  <thead>\n",
       "    <tr style=\"text-align: right;\">\n",
       "      <th></th>\n",
       "      <th>고객번호</th>\n",
       "      <th>채널구분</th>\n",
       "      <th>제휴사</th>\n",
       "      <th>상품코드</th>\n",
       "      <th>구매일자</th>\n",
       "      <th>구매시간</th>\n",
       "      <th>점포코드</th>\n",
       "    </tr>\n",
       "  </thead>\n",
       "  <tbody>\n",
       "    <tr>\n",
       "      <th>2334570</th>\n",
       "      <td>M627708829</td>\n",
       "      <td>1</td>\n",
       "      <td>A04</td>\n",
       "      <td>PD1330</td>\n",
       "      <td>20211210</td>\n",
       "      <td>11</td>\n",
       "      <td>3</td>\n",
       "    </tr>\n",
       "  </tbody>\n",
       "</table>\n",
       "</div>"
      ],
      "text/plain": [
       "               고객번호  채널구분  제휴사    상품코드      구매일자  구매시간  점포코드\n",
       "2334570  M627708829     1  A04  PD1330  20211210    11     3"
      ]
     },
     "execution_count": 83,
     "metadata": {},
     "output_type": "execute_result"
    }
   ],
   "source": [
    "product_use_new_1.query(\"점포코드==3\")"
   ]
  },
  {
   "cell_type": "code",
   "execution_count": 85,
   "metadata": {},
   "outputs": [
    {
     "data": {
      "text/html": [
       "<div>\n",
       "<style scoped>\n",
       "    .dataframe tbody tr th:only-of-type {\n",
       "        vertical-align: middle;\n",
       "    }\n",
       "\n",
       "    .dataframe tbody tr th {\n",
       "        vertical-align: top;\n",
       "    }\n",
       "\n",
       "    .dataframe thead th {\n",
       "        text-align: right;\n",
       "    }\n",
       "</style>\n",
       "<table border=\"1\" class=\"dataframe\">\n",
       "  <thead>\n",
       "    <tr style=\"text-align: right;\">\n",
       "      <th></th>\n",
       "      <th>고객번호</th>\n",
       "      <th>영수증번호</th>\n",
       "      <th>채널구분</th>\n",
       "      <th>제휴사</th>\n",
       "      <th>점포코드</th>\n",
       "      <th>상품코드</th>\n",
       "      <th>구매일자</th>\n",
       "      <th>구매시간</th>\n",
       "      <th>구매금액</th>\n",
       "      <th>구매수량</th>\n",
       "    </tr>\n",
       "  </thead>\n",
       "  <tbody>\n",
       "    <tr>\n",
       "      <th>4280060</th>\n",
       "      <td>M627708829</td>\n",
       "      <td>A04121928540</td>\n",
       "      <td>1</td>\n",
       "      <td>A04</td>\n",
       "      <td>A045405</td>\n",
       "      <td>PD1330</td>\n",
       "      <td>20211210</td>\n",
       "      <td>11</td>\n",
       "      <td>2500.0</td>\n",
       "      <td>1</td>\n",
       "    </tr>\n",
       "    <tr>\n",
       "      <th>4280099</th>\n",
       "      <td>M627708829</td>\n",
       "      <td>A04121945041</td>\n",
       "      <td>1</td>\n",
       "      <td>A04</td>\n",
       "      <td>A042941</td>\n",
       "      <td>PD1330</td>\n",
       "      <td>20211210</td>\n",
       "      <td>11</td>\n",
       "      <td>42000.0</td>\n",
       "      <td>6</td>\n",
       "    </tr>\n",
       "    <tr>\n",
       "      <th>4280113</th>\n",
       "      <td>M627708829</td>\n",
       "      <td>A04121951633</td>\n",
       "      <td>1</td>\n",
       "      <td>A04</td>\n",
       "      <td>A045421</td>\n",
       "      <td>PD1330</td>\n",
       "      <td>20211210</td>\n",
       "      <td>11</td>\n",
       "      <td>16500.0</td>\n",
       "      <td>3</td>\n",
       "    </tr>\n",
       "    <tr>\n",
       "      <th>4280114</th>\n",
       "      <td>M627708829</td>\n",
       "      <td>A04121951633</td>\n",
       "      <td>1</td>\n",
       "      <td>A04</td>\n",
       "      <td>A045421</td>\n",
       "      <td>PD1330</td>\n",
       "      <td>20211210</td>\n",
       "      <td>11</td>\n",
       "      <td>18900.0</td>\n",
       "      <td>3</td>\n",
       "    </tr>\n",
       "    <tr>\n",
       "      <th>4280115</th>\n",
       "      <td>M627708829</td>\n",
       "      <td>A04121951633</td>\n",
       "      <td>1</td>\n",
       "      <td>A04</td>\n",
       "      <td>A045421</td>\n",
       "      <td>PD1330</td>\n",
       "      <td>20211210</td>\n",
       "      <td>11</td>\n",
       "      <td>2500.0</td>\n",
       "      <td>1</td>\n",
       "    </tr>\n",
       "  </tbody>\n",
       "</table>\n",
       "</div>"
      ],
      "text/plain": [
       "               고객번호         영수증번호  채널구분  제휴사     점포코드    상품코드      구매일자  구매시간  \\\n",
       "4280060  M627708829  A04121928540     1  A04  A045405  PD1330  20211210    11   \n",
       "4280099  M627708829  A04121945041     1  A04  A042941  PD1330  20211210    11   \n",
       "4280113  M627708829  A04121951633     1  A04  A045421  PD1330  20211210    11   \n",
       "4280114  M627708829  A04121951633     1  A04  A045421  PD1330  20211210    11   \n",
       "4280115  M627708829  A04121951633     1  A04  A045421  PD1330  20211210    11   \n",
       "\n",
       "            구매금액  구매수량  \n",
       "4280060   2500.0     1  \n",
       "4280099  42000.0     6  \n",
       "4280113  16500.0     3  \n",
       "4280114  18900.0     3  \n",
       "4280115   2500.0     1  "
      ]
     },
     "execution_count": 85,
     "metadata": {},
     "output_type": "execute_result"
    }
   ],
   "source": [
    "product_use.query(\"고객번호=='M627708829' & 채널구분==1 & 제휴사=='A04' & 상품코드=='PD1330'&구매일자==20211210 & 구매시간 ==11 \")"
   ]
  },
  {
   "cell_type": "code",
   "execution_count": 10,
   "metadata": {},
   "outputs": [],
   "source": [
    "# 점포코드를 어떻게 살리면 좋을까ㅏㅏㅏㅏㅏ\n",
    "product_use_new_1 = product_use.groupby(['고객번호','영수증번호','채널구분','제휴사','상품코드','구매일자','구매시간'])['점포코드'].first().reset_index()\n",
    "\n",
    "product_use_new = pd.merge(product_use_new, product_use_new_1, how='left', on=['고객번호','영수증번호','채널구분','제휴사','상품코드','구매일자','구매시간'])"
   ]
  },
  {
   "cell_type": "code",
   "execution_count": 10,
   "metadata": {},
   "outputs": [
    {
     "data": {
      "text/html": [
       "<div>\n",
       "<style scoped>\n",
       "    .dataframe tbody tr th:only-of-type {\n",
       "        vertical-align: middle;\n",
       "    }\n",
       "\n",
       "    .dataframe tbody tr th {\n",
       "        vertical-align: top;\n",
       "    }\n",
       "\n",
       "    .dataframe thead th {\n",
       "        text-align: right;\n",
       "    }\n",
       "</style>\n",
       "<table border=\"1\" class=\"dataframe\">\n",
       "  <thead>\n",
       "    <tr style=\"text-align: right;\">\n",
       "      <th></th>\n",
       "      <th>고객번호</th>\n",
       "      <th>채널구분</th>\n",
       "      <th>제휴사</th>\n",
       "      <th>상품코드</th>\n",
       "      <th>구매일자</th>\n",
       "      <th>구매시간</th>\n",
       "      <th>구매금액</th>\n",
       "      <th>구매수량</th>\n",
       "      <th>영수증갯수</th>\n",
       "    </tr>\n",
       "  </thead>\n",
       "  <tbody>\n",
       "    <tr>\n",
       "      <th>0</th>\n",
       "      <td>M000034966</td>\n",
       "      <td>1</td>\n",
       "      <td>A01</td>\n",
       "      <td>PD0777</td>\n",
       "      <td>20210116</td>\n",
       "      <td>18</td>\n",
       "      <td>78000.0</td>\n",
       "      <td>2</td>\n",
       "      <td>2</td>\n",
       "    </tr>\n",
       "    <tr>\n",
       "      <th>1</th>\n",
       "      <td>M000034966</td>\n",
       "      <td>1</td>\n",
       "      <td>A01</td>\n",
       "      <td>PD0796</td>\n",
       "      <td>20210116</td>\n",
       "      <td>18</td>\n",
       "      <td>100.0</td>\n",
       "      <td>1</td>\n",
       "      <td>1</td>\n",
       "    </tr>\n",
       "    <tr>\n",
       "      <th>2</th>\n",
       "      <td>M000034966</td>\n",
       "      <td>1</td>\n",
       "      <td>A01</td>\n",
       "      <td>PD0816</td>\n",
       "      <td>20210116</td>\n",
       "      <td>18</td>\n",
       "      <td>62100.0</td>\n",
       "      <td>1</td>\n",
       "      <td>1</td>\n",
       "    </tr>\n",
       "    <tr>\n",
       "      <th>3</th>\n",
       "      <td>M000034966</td>\n",
       "      <td>1</td>\n",
       "      <td>A02</td>\n",
       "      <td>PD0116</td>\n",
       "      <td>20210328</td>\n",
       "      <td>21</td>\n",
       "      <td>6960.0</td>\n",
       "      <td>2</td>\n",
       "      <td>1</td>\n",
       "    </tr>\n",
       "    <tr>\n",
       "      <th>4</th>\n",
       "      <td>M000034966</td>\n",
       "      <td>1</td>\n",
       "      <td>A02</td>\n",
       "      <td>PD0169</td>\n",
       "      <td>20210919</td>\n",
       "      <td>16</td>\n",
       "      <td>17900.0</td>\n",
       "      <td>1</td>\n",
       "      <td>1</td>\n",
       "    </tr>\n",
       "  </tbody>\n",
       "</table>\n",
       "</div>"
      ],
      "text/plain": [
       "         고객번호  채널구분  제휴사    상품코드      구매일자  구매시간     구매금액  구매수량  영수증갯수\n",
       "0  M000034966     1  A01  PD0777  20210116    18  78000.0     2      2\n",
       "1  M000034966     1  A01  PD0796  20210116    18    100.0     1      1\n",
       "2  M000034966     1  A01  PD0816  20210116    18  62100.0     1      1\n",
       "3  M000034966     1  A02  PD0116  20210328    21   6960.0     2      1\n",
       "4  M000034966     1  A02  PD0169  20210919    16  17900.0     1      1"
      ]
     },
     "execution_count": 10,
     "metadata": {},
     "output_type": "execute_result"
    }
   ],
   "source": [
    "product_use_new.head()"
   ]
  },
  {
   "cell_type": "code",
   "execution_count": 5,
   "metadata": {},
   "outputs": [
    {
     "data": {
      "text/html": [
       "<div>\n",
       "<style scoped>\n",
       "    .dataframe tbody tr th:only-of-type {\n",
       "        vertical-align: middle;\n",
       "    }\n",
       "\n",
       "    .dataframe tbody tr th {\n",
       "        vertical-align: top;\n",
       "    }\n",
       "\n",
       "    .dataframe thead th {\n",
       "        text-align: right;\n",
       "    }\n",
       "</style>\n",
       "<table border=\"1\" class=\"dataframe\">\n",
       "  <thead>\n",
       "    <tr style=\"text-align: right;\">\n",
       "      <th></th>\n",
       "      <th>고객번호</th>\n",
       "      <th>영수증번호</th>\n",
       "      <th>제휴사</th>\n",
       "      <th>채널구분</th>\n",
       "      <th>이용일자</th>\n",
       "      <th>이용시간</th>\n",
       "      <th>이용금액</th>\n",
       "    </tr>\n",
       "  </thead>\n",
       "  <tbody>\n",
       "    <tr>\n",
       "      <th>56054</th>\n",
       "      <td>M351758648</td>\n",
       "      <td>210629150273759</td>\n",
       "      <td>A02</td>\n",
       "      <td>1</td>\n",
       "      <td>20210629</td>\n",
       "      <td>15</td>\n",
       "      <td>115950</td>\n",
       "    </tr>\n",
       "  </tbody>\n",
       "</table>\n",
       "</div>"
      ],
      "text/plain": [
       "             고객번호            영수증번호  제휴사  채널구분      이용일자  이용시간    이용금액\n",
       "56054  M351758648  210629150273759  A02     1  20210629    15  115950"
      ]
     },
     "execution_count": 5,
     "metadata": {},
     "output_type": "execute_result"
    }
   ],
   "source": [
    "lpay.query(\"(고객번호=='M351758648')&(제휴사=='A02')&(이용일자==20210629)&(이용시간==15)\")"
   ]
  },
  {
   "cell_type": "code",
   "execution_count": 6,
   "metadata": {},
   "outputs": [
    {
     "data": {
      "text/html": [
       "<div>\n",
       "<style scoped>\n",
       "    .dataframe tbody tr th:only-of-type {\n",
       "        vertical-align: middle;\n",
       "    }\n",
       "\n",
       "    .dataframe tbody tr th {\n",
       "        vertical-align: top;\n",
       "    }\n",
       "\n",
       "    .dataframe thead th {\n",
       "        text-align: right;\n",
       "    }\n",
       "</style>\n",
       "<table border=\"1\" class=\"dataframe\">\n",
       "  <thead>\n",
       "    <tr style=\"text-align: right;\">\n",
       "      <th></th>\n",
       "      <th>고객번호</th>\n",
       "      <th>영수증번호</th>\n",
       "      <th>채널구분</th>\n",
       "      <th>제휴사</th>\n",
       "      <th>상품코드</th>\n",
       "      <th>구매일자</th>\n",
       "      <th>구매시간</th>\n",
       "      <th>구매금액</th>\n",
       "      <th>구매수량</th>\n",
       "    </tr>\n",
       "  </thead>\n",
       "  <tbody>\n",
       "    <tr>\n",
       "      <th>1336665</th>\n",
       "      <td>M351758648</td>\n",
       "      <td>A02180213962</td>\n",
       "      <td>1</td>\n",
       "      <td>A02</td>\n",
       "      <td>PD0198</td>\n",
       "      <td>20210629</td>\n",
       "      <td>15</td>\n",
       "      <td>3960.0</td>\n",
       "      <td>4</td>\n",
       "    </tr>\n",
       "    <tr>\n",
       "      <th>1336666</th>\n",
       "      <td>M351758648</td>\n",
       "      <td>A02180213962</td>\n",
       "      <td>1</td>\n",
       "      <td>A02</td>\n",
       "      <td>PD0480</td>\n",
       "      <td>20210629</td>\n",
       "      <td>15</td>\n",
       "      <td>8000.0</td>\n",
       "      <td>4</td>\n",
       "    </tr>\n",
       "    <tr>\n",
       "      <th>1336667</th>\n",
       "      <td>M351758648</td>\n",
       "      <td>A02180213962</td>\n",
       "      <td>1</td>\n",
       "      <td>A02</td>\n",
       "      <td>PD0710</td>\n",
       "      <td>20210629</td>\n",
       "      <td>15</td>\n",
       "      <td>6980.0</td>\n",
       "      <td>1</td>\n",
       "    </tr>\n",
       "    <tr>\n",
       "      <th>1336668</th>\n",
       "      <td>M351758648</td>\n",
       "      <td>A02180213962</td>\n",
       "      <td>1</td>\n",
       "      <td>A02</td>\n",
       "      <td>PD0886</td>\n",
       "      <td>20210629</td>\n",
       "      <td>15</td>\n",
       "      <td>34620.0</td>\n",
       "      <td>5</td>\n",
       "    </tr>\n",
       "    <tr>\n",
       "      <th>1336669</th>\n",
       "      <td>M351758648</td>\n",
       "      <td>A02180213962</td>\n",
       "      <td>1</td>\n",
       "      <td>A02</td>\n",
       "      <td>PD1355</td>\n",
       "      <td>20210629</td>\n",
       "      <td>15</td>\n",
       "      <td>27900.0</td>\n",
       "      <td>1</td>\n",
       "    </tr>\n",
       "    <tr>\n",
       "      <th>1336670</th>\n",
       "      <td>M351758648</td>\n",
       "      <td>A02180213962</td>\n",
       "      <td>1</td>\n",
       "      <td>A02</td>\n",
       "      <td>PD1365</td>\n",
       "      <td>20210629</td>\n",
       "      <td>15</td>\n",
       "      <td>6900.0</td>\n",
       "      <td>1</td>\n",
       "    </tr>\n",
       "    <tr>\n",
       "      <th>1336671</th>\n",
       "      <td>M351758648</td>\n",
       "      <td>A02180213962</td>\n",
       "      <td>1</td>\n",
       "      <td>A02</td>\n",
       "      <td>PD1441</td>\n",
       "      <td>20210629</td>\n",
       "      <td>15</td>\n",
       "      <td>2360.0</td>\n",
       "      <td>2</td>\n",
       "    </tr>\n",
       "    <tr>\n",
       "      <th>1336672</th>\n",
       "      <td>M351758648</td>\n",
       "      <td>A02180213962</td>\n",
       "      <td>1</td>\n",
       "      <td>A02</td>\n",
       "      <td>PD1484</td>\n",
       "      <td>20210629</td>\n",
       "      <td>15</td>\n",
       "      <td>620.0</td>\n",
       "      <td>1</td>\n",
       "    </tr>\n",
       "  </tbody>\n",
       "</table>\n",
       "</div>"
      ],
      "text/plain": [
       "               고객번호         영수증번호  채널구분  제휴사    상품코드      구매일자  구매시간     구매금액  \\\n",
       "1336665  M351758648  A02180213962     1  A02  PD0198  20210629    15   3960.0   \n",
       "1336666  M351758648  A02180213962     1  A02  PD0480  20210629    15   8000.0   \n",
       "1336667  M351758648  A02180213962     1  A02  PD0710  20210629    15   6980.0   \n",
       "1336668  M351758648  A02180213962     1  A02  PD0886  20210629    15  34620.0   \n",
       "1336669  M351758648  A02180213962     1  A02  PD1355  20210629    15  27900.0   \n",
       "1336670  M351758648  A02180213962     1  A02  PD1365  20210629    15   6900.0   \n",
       "1336671  M351758648  A02180213962     1  A02  PD1441  20210629    15   2360.0   \n",
       "1336672  M351758648  A02180213962     1  A02  PD1484  20210629    15    620.0   \n",
       "\n",
       "         구매수량  \n",
       "1336665     4  \n",
       "1336666     4  \n",
       "1336667     1  \n",
       "1336668     5  \n",
       "1336669     1  \n",
       "1336670     1  \n",
       "1336671     2  \n",
       "1336672     1  "
      ]
     },
     "execution_count": 6,
     "metadata": {},
     "output_type": "execute_result"
    }
   ],
   "source": [
    "product_use_new.query(\"(고객번호=='M351758648')&(제휴사=='A02')&(구매일자==20210629)&(구매시간==15)\")"
   ]
  },
  {
   "cell_type": "code",
   "execution_count": 7,
   "metadata": {},
   "outputs": [
    {
     "data": {
      "text/plain": [
       "91340.0"
      ]
     },
     "execution_count": 7,
     "metadata": {},
     "output_type": "execute_result"
    }
   ],
   "source": [
    "product_use_new.query(\"(고객번호=='M351758648')&(제휴사=='A02')&(구매일자==20210629)&(구매시간==15)\").구매금액.sum()"
   ]
  },
  {
   "cell_type": "code",
   "execution_count": 8,
   "metadata": {},
   "outputs": [
    {
     "data": {
      "text/plain": [
       "24610.0"
      ]
     },
     "execution_count": 8,
     "metadata": {},
     "output_type": "execute_result"
    }
   ],
   "source": [
    "115950 - 91340.0"
   ]
  },
  {
   "cell_type": "markdown",
   "metadata": {},
   "source": [
    "---"
   ]
  },
  {
   "cell_type": "markdown",
   "metadata": {},
   "source": [
    "lpay에도 같은 고객, 제휴사, 채널, 일자, 시간 인데 여러개로 나누어져있는 것을 보았다.\\\n",
    "이상태로 상품구매정보와 merge를 하게 된다면 상품구매내역이 중복으로 들어가게 되어 데이터가 복제될 것이다.\\\n",
    "---- ex) 한 고객, 제휴사, 채널, 일자, 시간에 대한 상품구매정보에 두개의 lpay정보가 들어가면 데이터가 두배로 늘어남\\\n",
    "그래서 이를 해결하고자 같은 고객, 제휴사, 채널, 일자, 시간 에 **1.몇번 엘포인트를 이용**하였는지, **2.총이용금액이 얼마**인지를 사용하려 한다."
   ]
  },
  {
   "cell_type": "code",
   "execution_count": 38,
   "metadata": {},
   "outputs": [
    {
     "data": {
      "text/plain": [
       "(353184, 7)"
      ]
     },
     "execution_count": 38,
     "metadata": {},
     "output_type": "execute_result"
    }
   ],
   "source": [
    "lpay.shape"
   ]
  },
  {
   "cell_type": "code",
   "execution_count": 50,
   "metadata": {},
   "outputs": [],
   "source": [
    "# ll = lpay.groupby(['고객번호','제휴사','채널구분','이용일자','이용시간','이용금액']).size().reset_index()\n",
    "# ll.columns = ['고객번호', '제휴사', '채널구분', '이용일자', '이용시간', '이용금액', '엘포인트횟수']"
   ]
  },
  {
   "cell_type": "code",
   "execution_count": 40,
   "metadata": {},
   "outputs": [],
   "source": [
    "ll = lpay.groupby(['고객번호','제휴사','채널구분','이용일자','이용시간']).size().reset_index()\n",
    "ll.columns = ['고객번호', '제휴사', '채널구분', '이용일자', '이용시간', '엘포인트횟수']\n",
    "\n",
    "ll2 = lpay.groupby(['고객번호','제휴사','채널구분','이용일자','이용시간'])['이용금액'].sum().reset_index()\n",
    "ll2.columns =['고객번호', '제휴사', '채널구분', '이용일자', '이용시간', '엘포인트이용금액']\n",
    "\n",
    "ll = pd.merge(ll2, ll, how='left',on=['고객번호','제휴사','채널구분','이용일자','이용시간'])"
   ]
  },
  {
   "cell_type": "code",
   "execution_count": 41,
   "metadata": {},
   "outputs": [],
   "source": [
    "# 상품구매정보와 엘포인트를 merge\n",
    "product_lpay = pd.merge(product_use_new, ll, how='left', left_on =['고객번호','제휴사','채널구분','구매일자','구매시간'], right_on = ['고객번호','제휴사','채널구분','이용일자','이용시간'])\n",
    "product_lpay.drop(['이용일자','이용시간'],axis=1, inplace=True)"
   ]
  },
  {
   "cell_type": "code",
   "execution_count": 42,
   "metadata": {},
   "outputs": [],
   "source": [
    "product_lpay.엘포인트이용금액.fillna(0, inplace=True)\n",
    "# product_lpay.이용금액.fillna(0, inplace=True)\n",
    "product_lpay.엘포인트횟수.fillna(0, inplace=True)"
   ]
  },
  {
   "cell_type": "code",
   "execution_count": 43,
   "metadata": {},
   "outputs": [
    {
     "data": {
      "text/plain": [
       "((3677135, 11), (3677135, 9))"
      ]
     },
     "execution_count": 43,
     "metadata": {},
     "output_type": "execute_result"
    }
   ],
   "source": [
    "# 데이터의 양이 일정함을 볼 수 있다.\n",
    "product_lpay.shape, product_use_new.shape"
   ]
  },
  {
   "cell_type": "markdown",
   "metadata": {},
   "source": [
    "### feature engineering"
   ]
  },
  {
   "cell_type": "code",
   "execution_count": 44,
   "metadata": {},
   "outputs": [],
   "source": [
    "# 상품구매금액 총액 생성\n",
    "cg = product_lpay.groupby(['고객번호', '채널구분', '제휴사', '구매일자', '구매시간'])['구매금액'].sum().reset_index() \n",
    "cg.columns = ['고객번호', '채널구분', '제휴사', '구매일자', '구매시간','총구매금액']\n",
    "\n",
    "product_lpay = pd.merge(product_lpay, cg, how ='left', on=['고객번호', '채널구분', '제휴사', '구매일자', '구매시간'])"
   ]
  },
  {
   "cell_type": "code",
   "execution_count": 45,
   "metadata": {},
   "outputs": [],
   "source": [
    "# 상품 종류 생성\n",
    "sj = product_lpay.groupby(['고객번호', '채널구분', '제휴사', '구매일자', '구매시간'])['상품코드'].nunique().reset_index()\n",
    "sj.columns = ['고객번호', '채널구분', '제휴사', '구매일자', '구매시간','상품구매종류']\n",
    "\n",
    "product_lpay = pd.merge(product_lpay, sj, how ='left', on=['고객번호', '채널구분', '제휴사', '구매일자', '구매시간'])"
   ]
  },
  {
   "cell_type": "code",
   "execution_count": 46,
   "metadata": {},
   "outputs": [],
   "source": [
    "# 구매 상품 수 생성\n",
    "gs = product_lpay.groupby(['고객번호', '채널구분', '제휴사', '구매일자', '구매시간'])['구매수량'].sum().reset_index()\n",
    "gs.columns = ['고객번호', '채널구분', '제휴사', '구매일자', '구매시간','총구매상품수']\n",
    "\n",
    "product_lpay = pd.merge(product_lpay, gs, how ='left', on=['고객번호', '채널구분', '제휴사', '구매일자', '구매시간'])"
   ]
  },
  {
   "cell_type": "code",
   "execution_count": 47,
   "metadata": {},
   "outputs": [
    {
     "data": {
      "text/html": [
       "<div>\n",
       "<style scoped>\n",
       "    .dataframe tbody tr th:only-of-type {\n",
       "        vertical-align: middle;\n",
       "    }\n",
       "\n",
       "    .dataframe tbody tr th {\n",
       "        vertical-align: top;\n",
       "    }\n",
       "\n",
       "    .dataframe thead th {\n",
       "        text-align: right;\n",
       "    }\n",
       "</style>\n",
       "<table border=\"1\" class=\"dataframe\">\n",
       "  <thead>\n",
       "    <tr style=\"text-align: right;\">\n",
       "      <th></th>\n",
       "      <th>고객번호</th>\n",
       "      <th>채널구분</th>\n",
       "      <th>제휴사</th>\n",
       "      <th>상품코드</th>\n",
       "      <th>구매일자</th>\n",
       "      <th>구매시간</th>\n",
       "      <th>구매금액</th>\n",
       "      <th>구매수량</th>\n",
       "      <th>영수증갯수</th>\n",
       "      <th>엘포인트이용금액</th>\n",
       "      <th>엘포인트횟수</th>\n",
       "      <th>총구매금액</th>\n",
       "      <th>상품구매종류</th>\n",
       "      <th>총구매상품수</th>\n",
       "    </tr>\n",
       "  </thead>\n",
       "  <tbody>\n",
       "    <tr>\n",
       "      <th>0</th>\n",
       "      <td>M000034966</td>\n",
       "      <td>1</td>\n",
       "      <td>A01</td>\n",
       "      <td>PD0777</td>\n",
       "      <td>20210116</td>\n",
       "      <td>18</td>\n",
       "      <td>78000.0</td>\n",
       "      <td>2</td>\n",
       "      <td>2</td>\n",
       "      <td>0.0</td>\n",
       "      <td>0.0</td>\n",
       "      <td>140200.0</td>\n",
       "      <td>3</td>\n",
       "      <td>4</td>\n",
       "    </tr>\n",
       "    <tr>\n",
       "      <th>1</th>\n",
       "      <td>M000034966</td>\n",
       "      <td>1</td>\n",
       "      <td>A01</td>\n",
       "      <td>PD0796</td>\n",
       "      <td>20210116</td>\n",
       "      <td>18</td>\n",
       "      <td>100.0</td>\n",
       "      <td>1</td>\n",
       "      <td>1</td>\n",
       "      <td>0.0</td>\n",
       "      <td>0.0</td>\n",
       "      <td>140200.0</td>\n",
       "      <td>3</td>\n",
       "      <td>4</td>\n",
       "    </tr>\n",
       "    <tr>\n",
       "      <th>2</th>\n",
       "      <td>M000034966</td>\n",
       "      <td>1</td>\n",
       "      <td>A01</td>\n",
       "      <td>PD0816</td>\n",
       "      <td>20210116</td>\n",
       "      <td>18</td>\n",
       "      <td>62100.0</td>\n",
       "      <td>1</td>\n",
       "      <td>1</td>\n",
       "      <td>0.0</td>\n",
       "      <td>0.0</td>\n",
       "      <td>140200.0</td>\n",
       "      <td>3</td>\n",
       "      <td>4</td>\n",
       "    </tr>\n",
       "    <tr>\n",
       "      <th>3</th>\n",
       "      <td>M000034966</td>\n",
       "      <td>1</td>\n",
       "      <td>A02</td>\n",
       "      <td>PD0116</td>\n",
       "      <td>20210328</td>\n",
       "      <td>21</td>\n",
       "      <td>6960.0</td>\n",
       "      <td>2</td>\n",
       "      <td>1</td>\n",
       "      <td>0.0</td>\n",
       "      <td>0.0</td>\n",
       "      <td>89560.0</td>\n",
       "      <td>2</td>\n",
       "      <td>4</td>\n",
       "    </tr>\n",
       "    <tr>\n",
       "      <th>4</th>\n",
       "      <td>M000034966</td>\n",
       "      <td>1</td>\n",
       "      <td>A02</td>\n",
       "      <td>PD0169</td>\n",
       "      <td>20210919</td>\n",
       "      <td>16</td>\n",
       "      <td>17900.0</td>\n",
       "      <td>1</td>\n",
       "      <td>1</td>\n",
       "      <td>0.0</td>\n",
       "      <td>0.0</td>\n",
       "      <td>164060.0</td>\n",
       "      <td>23</td>\n",
       "      <td>33</td>\n",
       "    </tr>\n",
       "  </tbody>\n",
       "</table>\n",
       "</div>"
      ],
      "text/plain": [
       "         고객번호  채널구분  제휴사    상품코드      구매일자  구매시간     구매금액  구매수량  영수증갯수  \\\n",
       "0  M000034966     1  A01  PD0777  20210116    18  78000.0     2      2   \n",
       "1  M000034966     1  A01  PD0796  20210116    18    100.0     1      1   \n",
       "2  M000034966     1  A01  PD0816  20210116    18  62100.0     1      1   \n",
       "3  M000034966     1  A02  PD0116  20210328    21   6960.0     2      1   \n",
       "4  M000034966     1  A02  PD0169  20210919    16  17900.0     1      1   \n",
       "\n",
       "   엘포인트이용금액  엘포인트횟수     총구매금액  상품구매종류  총구매상품수  \n",
       "0       0.0     0.0  140200.0       3       4  \n",
       "1       0.0     0.0  140200.0       3       4  \n",
       "2       0.0     0.0  140200.0       3       4  \n",
       "3       0.0     0.0   89560.0       2       4  \n",
       "4       0.0     0.0  164060.0      23      33  "
      ]
     },
     "execution_count": 47,
     "metadata": {},
     "output_type": "execute_result"
    }
   ],
   "source": [
    "product_lpay.head()"
   ]
  },
  {
   "cell_type": "markdown",
   "metadata": {},
   "source": [
    "### serv_use + lpay"
   ]
  },
  {
   "cell_type": "code",
   "execution_count": 25,
   "metadata": {},
   "outputs": [
    {
     "data": {
      "text/plain": [
       "array([1], dtype=int64)"
      ]
     },
     "execution_count": 25,
     "metadata": {},
     "output_type": "execute_result"
    }
   ],
   "source": [
    "ss = serv_use.groupby(['고객번호','영수증번호','제휴사','점포코드','채널구분','이용일자','방문일자','이용시간']).size().reset_index()\n",
    "ss.columns = ['고객번호','영수증번호','제휴사','점포코드','채널구분','이용일자','방문일자','이용시간','uni']\n",
    "ss.uni.unique()"
   ]
  },
  {
   "cell_type": "code",
   "execution_count": 26,
   "metadata": {},
   "outputs": [
    {
     "data": {
      "text/plain": [
       "array([1, 2, 3, 4, 5, 6, 7], dtype=int64)"
      ]
     },
     "execution_count": 26,
     "metadata": {},
     "output_type": "execute_result"
    }
   ],
   "source": [
    "ss = serv_use.groupby(['고객번호','제휴사','점포코드','채널구분','이용일자','방문일자','이용시간']).size().reset_index()\n",
    "ss.columns = ['고객번호','제휴사','점포코드','채널구분','이용일자','방문일자','이용시간','uni']\n",
    "ss.uni.unique()"
   ]
  },
  {
   "cell_type": "markdown",
   "metadata": {},
   "source": [
    "'고객번호','제휴사','점포코드','채널구분','이용일자','방문일자','이용시간' 다 같은데 '영수증번호' 만 다른 애들이 있다. "
   ]
  },
  {
   "cell_type": "code",
   "execution_count": 36,
   "metadata": {},
   "outputs": [
    {
     "name": "stderr",
     "output_type": "stream",
     "text": [
      "<ipython-input-36-ee92d9f1d2b8>:1: FutureWarning: Indexing with multiple keys (implicitly converted to a tuple of keys) will be deprecated, use a list instead.\n",
      "  product_use_new = product_use.groupby(['고객번호','채널구분','제휴사','상품코드','구매일자','구매시간'])['구매금액','구매수량'].sum()\n"
     ]
    }
   ],
   "source": [
    "product_use_new = product_use.groupby(['고객번호','채널구분','제휴사','상품코드','구매일자','구매시간'])['구매금액','구매수량'].sum()\n",
    "product_use_new= product_use_new.reset_index()"
   ]
  },
  {
   "cell_type": "code",
   "execution_count": 37,
   "metadata": {},
   "outputs": [
    {
     "data": {
      "text/plain": [
       "array([  2,   1,   3,   4,   7,   6,   9,   5,  10,  14,  15,   8,  12,\n",
       "        36,  43,  11,  13,  16,  19,  24,  17,  30,  26,  18,  20,  21,\n",
       "        28,  23,  22,  31,  29,  40, 110,  32,  92,  33,  50,  27,  45,\n",
       "        34,  72,  90,  54,  52,  39,  38,  25,  69,  60,  46,  53,  99,\n",
       "        55], dtype=int64)"
      ]
     },
     "execution_count": 37,
     "metadata": {},
     "output_type": "execute_result"
    }
   ],
   "source": [
    "pp = product_use.groupby(['고객번호','채널구분','제휴사','상품코드','구매일자','구매시간'])['영수증번호'].size().reset_index()\n",
    "pp.영수증번호.unique()"
   ]
  },
  {
   "cell_type": "code",
   "execution_count": 38,
   "metadata": {},
   "outputs": [],
   "source": [
    "product_use_new = pd.merge(product_use_new, pp, how='left', on=['고객번호','채널구분','제휴사','상품코드','구매일자','구매시간'])\n",
    "product_use_new.columns = ['고객번호', '채널구분', '제휴사', '상품코드', '구매일자', '구매시간', '구매금액', '구매수량', '영수증갯수']"
   ]
  },
  {
   "cell_type": "code",
   "execution_count": 28,
   "metadata": {},
   "outputs": [
    {
     "data": {
      "text/plain": [
       "array([1], dtype=int64)"
      ]
     },
     "execution_count": 28,
     "metadata": {},
     "output_type": "execute_result"
    }
   ],
   "source": [
    "ls = lpay.groupby(['고객번호','영수증번호','제휴사','채널구분','이용일자','이용시간']).size().reset_index()\n",
    "ls.columns = ['고객번호','영수증번호','제휴사','채널구분','이용일자','이용시간','uni']\n",
    "ls.uni.unique()"
   ]
  },
  {
   "cell_type": "code",
   "execution_count": 29,
   "metadata": {},
   "outputs": [
    {
     "data": {
      "text/plain": [
       "array([ 1,  2,  3,  8,  4,  5,  6,  7, 10, 21, 34, 22, 13,  9, 12, 11, 18,\n",
       "       16, 17, 19, 14], dtype=int64)"
      ]
     },
     "execution_count": 29,
     "metadata": {},
     "output_type": "execute_result"
    }
   ],
   "source": [
    "ls = lpay.groupby(['고객번호','제휴사','채널구분','이용일자','이용시간']).size().reset_index()\n",
    "ls.columns = ['고객번호','제휴사','채널구분','이용일자','이용시간','uni']\n",
    "ls.uni.unique()"
   ]
  },
  {
   "cell_type": "code",
   "execution_count": 30,
   "metadata": {},
   "outputs": [
    {
     "data": {
      "text/plain": [
       "array([ 1,  2,  3,  8,  4,  5,  6,  7, 10, 21, 34, 22, 13,  9, 12, 11, 18,\n",
       "       16, 17, 19, 14], dtype=int64)"
      ]
     },
     "execution_count": 30,
     "metadata": {},
     "output_type": "execute_result"
    }
   ],
   "source": [
    "ls = lpay.groupby(['고객번호','제휴사','채널구분','이용일자','이용시간'])['영수증번호'].nunique().reset_index()\n",
    "ls.columns = ['고객번호','제휴사','채널구분','이용일자','이용시간','uni']\n",
    "ls.uni.unique()"
   ]
  },
  {
   "cell_type": "code",
   "execution_count": null,
   "metadata": {},
   "outputs": [],
   "source": []
  }
 ],
 "metadata": {
  "kernelspec": {
   "display_name": "Python 3",
   "language": "python",
   "name": "python3"
  },
  "language_info": {
   "codemirror_mode": {
    "name": "ipython",
    "version": 3
   },
   "file_extension": ".py",
   "mimetype": "text/x-python",
   "name": "python",
   "nbconvert_exporter": "python",
   "pygments_lexer": "ipython3",
   "version": "3.8.5"
  }
 },
 "nbformat": 4,
 "nbformat_minor": 4
}
